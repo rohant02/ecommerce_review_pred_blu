{
 "cells": [
  {
   "cell_type": "markdown",
   "metadata": {
    "application/vnd.databricks.v1+cell": {
     "cellMetadata": {
      "byteLimit": 2048000,
      "rowLimit": 10000
     },
     "inputWidgets": {},
     "nuid": "32df621a-f7d7-4205-a30f-db3c71a36459",
     "showTitle": false,
     "tableResultSettingsMap": {},
     "title": ""
    }
   },
   "source": [
    "# Big Data Tools Final Project\n",
    "\n",
    "---\n",
    "\n",
    "### Authors:\n",
    "- **Rohan Taneja**\n",
    "- **Julian Subagiyo**\n",
    "\n",
    "---\n",
    "\n",
    "### Project Overview:\n",
    "This notebook serves as the final project submission for the Big Data Tools course. It includes the analysis, insights, and implementation details related to the project topic of review score prediction.\n",
    "\n",
    "---\n",
    "\n",
    "\n"
   ]
  },
  {
   "cell_type": "markdown",
   "metadata": {
    "application/vnd.databricks.v1+cell": {
     "cellMetadata": {
      "byteLimit": 2048000,
      "rowLimit": 10000
     },
     "inputWidgets": {},
     "nuid": "79f300fe-ba2a-4a94-a02b-eba89e3c9887",
     "showTitle": false,
     "tableResultSettingsMap": {},
     "title": ""
    }
   },
   "source": [
    "## Imports"
   ]
  },
  {
   "cell_type": "code",
   "execution_count": 1,
   "metadata": {
    "application/vnd.databricks.v1+cell": {
     "cellMetadata": {
      "byteLimit": 2048000,
      "rowLimit": 10000
     },
     "inputWidgets": {},
     "nuid": "f41d6aa1-2d38-4b89-bc1f-fa8106dadaf3",
     "showTitle": false,
     "tableResultSettingsMap": {},
     "title": ""
    }
   },
   "outputs": [
    {
     "ename": "ImportError",
     "evalue": "Matplotlib requires numpy>=1.23; you have 1.22.0",
     "output_type": "error",
     "traceback": [
      "\u001b[1;31m---------------------------------------------------------------------------\u001b[0m",
      "\u001b[1;31mImportError\u001b[0m                               Traceback (most recent call last)",
      "Cell \u001b[1;32mIn[1], line 8\u001b[0m\n\u001b[0;32m      6\u001b[0m \u001b[38;5;28;01mfrom\u001b[39;00m\u001b[38;5;250m \u001b[39m\u001b[38;5;21;01mpyspark\u001b[39;00m\u001b[38;5;21;01m.\u001b[39;00m\u001b[38;5;21;01mml\u001b[39;00m\u001b[38;5;21;01m.\u001b[39;00m\u001b[38;5;21;01mclassification\u001b[39;00m\u001b[38;5;250m \u001b[39m\u001b[38;5;28;01mimport\u001b[39;00m LogisticRegression ,GBTClassifier, RandomForestClassifier\n\u001b[0;32m      7\u001b[0m \u001b[38;5;28;01mfrom\u001b[39;00m\u001b[38;5;250m \u001b[39m\u001b[38;5;21;01mpyspark\u001b[39;00m\u001b[38;5;21;01m.\u001b[39;00m\u001b[38;5;21;01mml\u001b[39;00m\u001b[38;5;21;01m.\u001b[39;00m\u001b[38;5;21;01mevaluation\u001b[39;00m\u001b[38;5;250m \u001b[39m\u001b[38;5;28;01mimport\u001b[39;00m MulticlassClassificationEvaluator ,BinaryClassificationEvaluator\n\u001b[1;32m----> 8\u001b[0m \u001b[38;5;28;01mimport\u001b[39;00m\u001b[38;5;250m \u001b[39m\u001b[38;5;21;01mmatplotlib\u001b[39;00m\u001b[38;5;21;01m.\u001b[39;00m\u001b[38;5;21;01mpyplot\u001b[39;00m\u001b[38;5;250m \u001b[39m\u001b[38;5;28;01mas\u001b[39;00m\u001b[38;5;250m \u001b[39m\u001b[38;5;21;01mplt\u001b[39;00m\n\u001b[0;32m      9\u001b[0m \u001b[38;5;28;01mimport\u001b[39;00m\u001b[38;5;250m \u001b[39m\u001b[38;5;21;01mseaborn\u001b[39;00m\u001b[38;5;250m \u001b[39m\u001b[38;5;28;01mas\u001b[39;00m\u001b[38;5;250m \u001b[39m\u001b[38;5;21;01msns\u001b[39;00m\n\u001b[0;32m     10\u001b[0m \u001b[38;5;28;01mimport\u001b[39;00m\u001b[38;5;250m \u001b[39m\u001b[38;5;21;01mpandas\u001b[39;00m\u001b[38;5;250m \u001b[39m\u001b[38;5;28;01mas\u001b[39;00m\u001b[38;5;250m \u001b[39m\u001b[38;5;21;01mpd\u001b[39;00m\n",
      "File \u001b[1;32mc:\\Users\\omgit\\.conda\\envs\\bdt_class\\lib\\site-packages\\matplotlib\\__init__.py:263\u001b[0m\n\u001b[0;32m    258\u001b[0m         \u001b[38;5;28;01mif\u001b[39;00m parse_version(module\u001b[38;5;241m.\u001b[39m__version__) \u001b[38;5;241m<\u001b[39m parse_version(minver):\n\u001b[0;32m    259\u001b[0m             \u001b[38;5;28;01mraise\u001b[39;00m \u001b[38;5;167;01mImportError\u001b[39;00m(\u001b[38;5;124mf\u001b[39m\u001b[38;5;124m\"\u001b[39m\u001b[38;5;124mMatplotlib requires \u001b[39m\u001b[38;5;132;01m{\u001b[39;00mmodname\u001b[38;5;132;01m}\u001b[39;00m\u001b[38;5;124m>=\u001b[39m\u001b[38;5;132;01m{\u001b[39;00mminver\u001b[38;5;132;01m}\u001b[39;00m\u001b[38;5;124m; \u001b[39m\u001b[38;5;124m\"\u001b[39m\n\u001b[0;32m    260\u001b[0m                               \u001b[38;5;124mf\u001b[39m\u001b[38;5;124m\"\u001b[39m\u001b[38;5;124myou have \u001b[39m\u001b[38;5;132;01m{\u001b[39;00mmodule\u001b[38;5;241m.\u001b[39m__version__\u001b[38;5;132;01m}\u001b[39;00m\u001b[38;5;124m\"\u001b[39m)\n\u001b[1;32m--> 263\u001b[0m \u001b[43m_check_versions\u001b[49m\u001b[43m(\u001b[49m\u001b[43m)\u001b[49m\n\u001b[0;32m    266\u001b[0m \u001b[38;5;66;03m# The decorator ensures this always returns the same handler (and it is only\u001b[39;00m\n\u001b[0;32m    267\u001b[0m \u001b[38;5;66;03m# attached once).\u001b[39;00m\n\u001b[0;32m    268\u001b[0m \u001b[38;5;129m@functools\u001b[39m\u001b[38;5;241m.\u001b[39mcache\n\u001b[0;32m    269\u001b[0m \u001b[38;5;28;01mdef\u001b[39;00m\u001b[38;5;250m \u001b[39m\u001b[38;5;21m_ensure_handler\u001b[39m():\n",
      "File \u001b[1;32mc:\\Users\\omgit\\.conda\\envs\\bdt_class\\lib\\site-packages\\matplotlib\\__init__.py:259\u001b[0m, in \u001b[0;36m_check_versions\u001b[1;34m()\u001b[0m\n\u001b[0;32m    257\u001b[0m module \u001b[38;5;241m=\u001b[39m importlib\u001b[38;5;241m.\u001b[39mimport_module(modname)\n\u001b[0;32m    258\u001b[0m \u001b[38;5;28;01mif\u001b[39;00m parse_version(module\u001b[38;5;241m.\u001b[39m__version__) \u001b[38;5;241m<\u001b[39m parse_version(minver):\n\u001b[1;32m--> 259\u001b[0m     \u001b[38;5;28;01mraise\u001b[39;00m \u001b[38;5;167;01mImportError\u001b[39;00m(\u001b[38;5;124mf\u001b[39m\u001b[38;5;124m\"\u001b[39m\u001b[38;5;124mMatplotlib requires \u001b[39m\u001b[38;5;132;01m{\u001b[39;00mmodname\u001b[38;5;132;01m}\u001b[39;00m\u001b[38;5;124m>=\u001b[39m\u001b[38;5;132;01m{\u001b[39;00mminver\u001b[38;5;132;01m}\u001b[39;00m\u001b[38;5;124m; \u001b[39m\u001b[38;5;124m\"\u001b[39m\n\u001b[0;32m    260\u001b[0m                       \u001b[38;5;124mf\u001b[39m\u001b[38;5;124m\"\u001b[39m\u001b[38;5;124myou have \u001b[39m\u001b[38;5;132;01m{\u001b[39;00mmodule\u001b[38;5;241m.\u001b[39m__version__\u001b[38;5;132;01m}\u001b[39;00m\u001b[38;5;124m\"\u001b[39m)\n",
      "\u001b[1;31mImportError\u001b[0m: Matplotlib requires numpy>=1.23; you have 1.22.0"
     ]
    }
   ],
   "source": [
    "from pyspark.sql import SparkSession\n",
    "from pyspark.sql.functions import *\n",
    "from pyspark.sql.window import Window\n",
    "from pyspark.ml.feature import OneHotEncoder, StringIndexer, StandardScaler, VectorAssembler, Bucketizer\n",
    "from pyspark.ml import Pipeline\n",
    "from pyspark.ml.classification import LogisticRegression ,GBTClassifier, RandomForestClassifier\n",
    "from pyspark.ml.evaluation import MulticlassClassificationEvaluator ,BinaryClassificationEvaluator\n",
    "import matplotlib.pyplot as plt\n",
    "import seaborn as sns\n",
    "import pandas as pd\n",
    "from pyspark.sql import functions as F\n",
    "\n"
   ]
  },
  {
   "cell_type": "markdown",
   "metadata": {
    "application/vnd.databricks.v1+cell": {
     "cellMetadata": {
      "byteLimit": 2048000,
      "rowLimit": 10000
     },
     "inputWidgets": {},
     "nuid": "913edacb-9595-4f59-99f7-1a9e1e482756",
     "showTitle": false,
     "tableResultSettingsMap": {},
     "title": ""
    }
   },
   "source": [
    "Initializing Spark Session"
   ]
  },
  {
   "cell_type": "code",
   "execution_count": null,
   "metadata": {
    "application/vnd.databricks.v1+cell": {
     "cellMetadata": {
      "byteLimit": 2048000,
      "rowLimit": 10000
     },
     "inputWidgets": {},
     "nuid": "06b9a761-618f-4085-bb7f-d50780ba24ef",
     "showTitle": false,
     "tableResultSettingsMap": {},
     "title": ""
    }
   },
   "outputs": [],
   "source": [
    "spark = SparkSession.builder \\\n",
    "    .master(\"local\") \\\n",
    "    .appName(\"BigDataProject\") \\\n",
    "    .getOrCreate()"
   ]
  },
  {
   "cell_type": "markdown",
   "metadata": {
    "application/vnd.databricks.v1+cell": {
     "cellMetadata": {
      "byteLimit": 2048000,
      "rowLimit": 10000
     },
     "inputWidgets": {},
     "nuid": "f46adcd9-b378-4a3c-8594-12fd105ac689",
     "showTitle": false,
     "tableResultSettingsMap": {},
     "title": ""
    }
   },
   "source": [
    "Imports"
   ]
  },
  {
   "cell_type": "code",
   "execution_count": null,
   "metadata": {
    "application/vnd.databricks.v1+cell": {
     "cellMetadata": {
      "byteLimit": 2048000,
      "rowLimit": 10000
     },
     "inputWidgets": {},
     "nuid": "27057b73-6eb5-4b98-93ba-09f0fdb2c2af",
     "showTitle": false,
     "tableResultSettingsMap": {},
     "title": ""
    }
   },
   "outputs": [],
   "source": [
    "def load_csv(file_name):\n",
    "    \"\"\"Helper function to load a CSV file into a Spark DataFrame.\"\"\"\n",
    "    return spark.read.format(\"csv\").option(\"header\", \"true\").option(\"inferSchema\", \"true\").load(file_name)\n",
    "\n",
    "# Base directory for data files\n",
    "data_dir = r\"C:\\Users\\omgit\\Desktop\\Big Data Proj\\Data-20250203\"\n",
    "\n",
    "# Load datasets\n",
    "order_items = load_csv(f\"{data_dir}\\order_items.csv\")\n",
    "products = load_csv(f\"{data_dir}\\products.csv\")\n",
    "order_payments = load_csv(f\"{data_dir}\\order_payments.csv\")\n",
    "order_reviews = load_csv(f\"{data_dir}\\order_reviews.csv\")\n",
    "orders = load_csv(f\"{data_dir}\\orders.csv\")"
   ]
  },
  {
   "cell_type": "markdown",
   "metadata": {
    "application/vnd.databricks.v1+cell": {
     "cellMetadata": {
      "byteLimit": 2048000,
      "rowLimit": 10000
     },
     "inputWidgets": {},
     "nuid": "e346f09c-bf9f-4300-b85d-67fd5ba799e0",
     "showTitle": false,
     "tableResultSettingsMap": {},
     "title": ""
    }
   },
   "source": [
    "Function that checks for NULLS or NA values in a given dataset:"
   ]
  },
  {
   "cell_type": "code",
   "execution_count": null,
   "metadata": {
    "application/vnd.databricks.v1+cell": {
     "cellMetadata": {
      "byteLimit": 2048000,
      "rowLimit": 10000
     },
     "inputWidgets": {},
     "nuid": "5ec96766-87da-4315-b8af-e17f63111ee1",
     "showTitle": false,
     "tableResultSettingsMap": {},
     "title": ""
    }
   },
   "outputs": [
    {
     "name": "stdout",
     "output_type": "stream",
     "text": [
      "Missing values in order_items:\n"
     ]
    },
    {
     "data": {
      "text/plain": [
       "DataFrame[order_id: bigint, order_item_id: bigint, product_id: bigint, price: bigint, shipping_cost: bigint]"
      ]
     },
     "metadata": {},
     "output_type": "display_data"
    },
    {
     "name": "stdout",
     "output_type": "stream",
     "text": [
      "'NA' values in order_items:\n"
     ]
    },
    {
     "data": {
      "text/plain": [
       "DataFrame[order_id: bigint, order_item_id: bigint, product_id: bigint, price: bigint, shipping_cost: bigint]"
      ]
     },
     "metadata": {},
     "output_type": "display_data"
    },
    {
     "name": "stdout",
     "output_type": "stream",
     "text": [
      "Missing values in products:\n"
     ]
    },
    {
     "data": {
      "text/plain": [
       "DataFrame[product_id: bigint, product_name_lenght: bigint, product_description_lenght: bigint, product_photos_qty: bigint, product_weight_g: bigint, product_length_cm: bigint, product_height_cm: bigint, product_width_cm: bigint, product_category_name: bigint]"
      ]
     },
     "metadata": {},
     "output_type": "display_data"
    },
    {
     "name": "stdout",
     "output_type": "stream",
     "text": [
      "'NA' values in products:\n"
     ]
    },
    {
     "data": {
      "text/plain": [
       "DataFrame[product_id: bigint, product_name_lenght: bigint, product_description_lenght: bigint, product_photos_qty: bigint, product_weight_g: bigint, product_length_cm: bigint, product_height_cm: bigint, product_width_cm: bigint, product_category_name: bigint]"
      ]
     },
     "metadata": {},
     "output_type": "display_data"
    },
    {
     "name": "stdout",
     "output_type": "stream",
     "text": [
      "Missing values in order_payments:\n"
     ]
    },
    {
     "data": {
      "text/plain": [
       "DataFrame[order_id: bigint, payment_sequential: bigint, payment_type: bigint, payment_installments: bigint, payment_value: bigint]"
      ]
     },
     "metadata": {},
     "output_type": "display_data"
    },
    {
     "name": "stdout",
     "output_type": "stream",
     "text": [
      "'NA' values in order_payments:\n"
     ]
    },
    {
     "data": {
      "text/plain": [
       "DataFrame[order_id: bigint, payment_sequential: bigint, payment_type: bigint, payment_installments: bigint, payment_value: bigint]"
      ]
     },
     "metadata": {},
     "output_type": "display_data"
    },
    {
     "name": "stdout",
     "output_type": "stream",
     "text": [
      "Missing values in order_reviews:\n"
     ]
    },
    {
     "data": {
      "text/plain": [
       "DataFrame[review_id: bigint, order_id: bigint, review_score: bigint, review_creation_date: bigint, review_answer_timestamp: bigint]"
      ]
     },
     "metadata": {},
     "output_type": "display_data"
    },
    {
     "name": "stdout",
     "output_type": "stream",
     "text": [
      "'NA' values in order_reviews:\n"
     ]
    },
    {
     "data": {
      "text/plain": [
       "DataFrame[review_id: bigint, order_id: bigint, review_score: bigint, review_creation_date: bigint, review_answer_timestamp: bigint]"
      ]
     },
     "metadata": {},
     "output_type": "display_data"
    }
   ],
   "source": [
    "# Function to count missing values\n",
    "def count_missing_values(df):\n",
    "    return df.select([count(when(col(c).isNull(), c)).alias(c) for c in df.columns])\n",
    "\n",
    "# Function to count 'NA' values\n",
    "def count_na_values(df):\n",
    "    return df.select([count(when(col(c) == 'NA', c)).alias(c) for c in df.columns])\n",
    "\n",
    "# Display missing and 'NA' values count for each dataset\n",
    "for df, name in zip([order_items, products, order_payments, order_reviews], \n",
    "                    [\"order_items\", \"products\", \"order_payments\", \"order_reviews\",'orders']):\n",
    "    print(f\"Missing values in {name}:\")\n",
    "    display(count_missing_values(df))\n",
    "    print(f\"'NA' values in {name}:\")\n",
    "    display(count_na_values(df))"
   ]
  },
  {
   "cell_type": "markdown",
   "metadata": {
    "application/vnd.databricks.v1+cell": {
     "cellMetadata": {
      "byteLimit": 2048000,
      "rowLimit": 10000
     },
     "inputWidgets": {},
     "nuid": "65ee3df3-01d3-4240-8528-b666cb25917f",
     "showTitle": false,
     "tableResultSettingsMap": {},
     "title": ""
    }
   },
   "source": [
    "## Order Items and Products Table"
   ]
  },
  {
   "cell_type": "markdown",
   "metadata": {
    "application/vnd.databricks.v1+cell": {
     "cellMetadata": {
      "byteLimit": 2048000,
      "rowLimit": 10000
     },
     "inputWidgets": {},
     "nuid": "b3609c83-18e6-40be-a71e-602806aaf034",
     "showTitle": false,
     "tableResultSettingsMap": {},
     "title": ""
    }
   },
   "source": [
    "We first partition by order_id to sort the data and use aggregate functions to create total_price_of_order and total_shipping_of_order"
   ]
  },
  {
   "cell_type": "code",
   "execution_count": null,
   "metadata": {
    "application/vnd.databricks.v1+cell": {
     "cellMetadata": {
      "byteLimit": 2048000,
      "rowLimit": 10000
     },
     "inputWidgets": {},
     "nuid": "7a21066b-a63b-4d3e-b10b-06069518923d",
     "showTitle": false,
     "tableResultSettingsMap": {},
     "title": ""
    }
   },
   "outputs": [
    {
     "name": "stdout",
     "output_type": "stream",
     "text": [
      "+--------------------+--------------------+-----------------------+\n",
      "|            order_id|total_price_of_order|total_shipping_of_order|\n",
      "+--------------------+--------------------+-----------------------+\n",
      "|00010242fe8c5a6d1...|               11.78|                   2.66|\n",
      "|00018f77f2f0320c5...|               47.98|                   3.99|\n",
      "|00042b26cf59d7ce6...|               39.98|                   3.63|\n",
      "|00054e8431b9d7675...|                3.98|                   2.37|\n",
      "|00061f2a7bc09da83...|                12.0|                   1.78|\n",
      "+--------------------+--------------------+-----------------------+\n",
      "only showing top 5 rows\n",
      "\n"
     ]
    }
   ],
   "source": [
    "window_spec = Window.partitionBy(\"order_id\")\n",
    "order_items = order_items.withColumn(\"total_items_in_order\", count(\"order_item_id\").over(window_spec))\n",
    "\n",
    "total_costs = order_items.groupBy(\"order_id\").agg(\n",
    "    sum(col(\"price\")).alias(\"total_price_of_order\"),\n",
    "    sum(col(\"shipping_cost\")).alias(\"total_shipping_of_order\")\n",
    "    )\n",
    "\n",
    "total_costs.orderBy(\"order_id\").show(5)"
   ]
  },
  {
   "cell_type": "markdown",
   "metadata": {
    "application/vnd.databricks.v1+cell": {
     "cellMetadata": {
      "byteLimit": 2048000,
      "rowLimit": 10000
     },
     "inputWidgets": {},
     "nuid": "61f251b6-8d3e-49ba-906c-c6f8976863e5",
     "showTitle": false,
     "tableResultSettingsMap": {},
     "title": ""
    }
   },
   "source": [
    "Join the order_items DataFrame with the total_costs DataFrame on the \"order_id\" column\n",
    ". Drop the columns \"order_item_id\", \"price\", and \"shipping_cost\" from the order_items DataFrame"
   ]
  },
  {
   "cell_type": "code",
   "execution_count": null,
   "metadata": {
    "application/vnd.databricks.v1+cell": {
     "cellMetadata": {
      "byteLimit": 2048000,
      "rowLimit": 10000
     },
     "inputWidgets": {},
     "nuid": "9ba4c76b-10c8-47fa-b0b3-874a74f5d848",
     "showTitle": false,
     "tableResultSettingsMap": {},
     "title": ""
    }
   },
   "outputs": [],
   "source": [
    "order_items = order_items.join(total_costs, \"order_id\", how='left')\n",
    "\n",
    "order_items = order_items.drop(\"order_item_id\", \"price\", \"shipping_cost\")"
   ]
  },
  {
   "cell_type": "markdown",
   "metadata": {
    "application/vnd.databricks.v1+cell": {
     "cellMetadata": {
      "byteLimit": 2048000,
      "rowLimit": 10000
     },
     "inputWidgets": {},
     "nuid": "627accc3-bd3d-427f-8bb0-bc53b981f483",
     "showTitle": false,
     "tableResultSettingsMap": {},
     "title": ""
    }
   },
   "source": [
    "Sort by order_id for next aggregate functions"
   ]
  },
  {
   "cell_type": "code",
   "execution_count": null,
   "metadata": {
    "application/vnd.databricks.v1+cell": {
     "cellMetadata": {
      "byteLimit": 2048000,
      "rowLimit": 10000
     },
     "inputWidgets": {},
     "nuid": "a8da284a-ea59-4d12-b896-0d647ff19a48",
     "showTitle": false,
     "tableResultSettingsMap": {},
     "title": ""
    }
   },
   "outputs": [],
   "source": [
    "order_items = order_items.orderBy(\"order_id\")"
   ]
  },
  {
   "cell_type": "markdown",
   "metadata": {
    "application/vnd.databricks.v1+cell": {
     "cellMetadata": {
      "byteLimit": 2048000,
      "rowLimit": 10000
     },
     "inputWidgets": {},
     "nuid": "25ac9906-5097-44f9-8a0a-a696989297f7",
     "showTitle": false,
     "tableResultSettingsMap": {},
     "title": ""
    }
   },
   "source": [
    "We choose to join product table here since it will allow us to create new features easier (left join because it's products has less rows than order_items)"
   ]
  },
  {
   "cell_type": "code",
   "execution_count": null,
   "metadata": {
    "application/vnd.databricks.v1+cell": {
     "cellMetadata": {
      "byteLimit": 2048000,
      "rowLimit": 10000
     },
     "inputWidgets": {},
     "nuid": "443c8b2a-cdf0-4987-8989-dbcd209fdfb8",
     "showTitle": false,
     "tableResultSettingsMap": {},
     "title": ""
    }
   },
   "outputs": [],
   "source": [
    "order_items_products = order_items.join(products,\"product_id\",\"left\")"
   ]
  },
  {
   "cell_type": "markdown",
   "metadata": {
    "application/vnd.databricks.v1+cell": {
     "cellMetadata": {
      "byteLimit": 2048000,
      "rowLimit": 10000
     },
     "inputWidgets": {},
     "nuid": "34356141-c62e-46ca-a595-f1952d80d0e9",
     "showTitle": false,
     "tableResultSettingsMap": {},
     "title": ""
    }
   },
   "source": [
    "Dropping NA values from the join"
   ]
  },
  {
   "cell_type": "code",
   "execution_count": null,
   "metadata": {
    "application/vnd.databricks.v1+cell": {
     "cellMetadata": {
      "byteLimit": 2048000,
      "rowLimit": 10000
     },
     "inputWidgets": {},
     "nuid": "4551ccd8-5370-457f-b238-d8131525826f",
     "showTitle": false,
     "tableResultSettingsMap": {},
     "title": ""
    }
   },
   "outputs": [],
   "source": [
    "order_items_products = order_items_products.dropna()"
   ]
  },
  {
   "cell_type": "markdown",
   "metadata": {
    "application/vnd.databricks.v1+cell": {
     "cellMetadata": {
      "byteLimit": 2048000,
      "rowLimit": 10000
     },
     "inputWidgets": {},
     "nuid": "ac33d719-13f2-4b7b-815a-1f563a11cd95",
     "showTitle": false,
     "tableResultSettingsMap": {},
     "title": ""
    }
   },
   "source": [
    "We identify upto 70 different product categories in this table"
   ]
  },
  {
   "cell_type": "code",
   "execution_count": null,
   "metadata": {
    "application/vnd.databricks.v1+cell": {
     "cellMetadata": {
      "byteLimit": 2048000,
      "rowLimit": 10000
     },
     "inputWidgets": {},
     "nuid": "c7e9600f-f362-4f09-9e06-03f2cde26c60",
     "showTitle": false,
     "tableResultSettingsMap": {},
     "title": ""
    }
   },
   "outputs": [
    {
     "name": "stdout",
     "output_type": "stream",
     "text": [
      "+-------------------------+\n",
      "|product_category_name    |\n",
      "+-------------------------+\n",
      "|art                      |\n",
      "|flowers                  |\n",
      "|home_construction        |\n",
      "|fashion_male_clothing    |\n",
      "|small_appliances         |\n",
      "|bed_bath_table           |\n",
      "|signaling_and_security   |\n",
      "|office_furniture         |\n",
      "|computers                |\n",
      "|watches_gifts            |\n",
      "|auto                     |\n",
      "|fashion_bags_accessories |\n",
      "|construction_tools_lights|\n",
      "|cool_stuff               |\n",
      "|cds_dvds_musicals        |\n",
      "|food                     |\n",
      "|computers_accessories    |\n",
      "|perfumery                |\n",
      "|pet_shop                 |\n",
      "|stationery               |\n",
      "+-------------------------+\n",
      "only showing top 20 rows\n",
      "\n"
     ]
    }
   ],
   "source": [
    "distinct_values = order_items_products.select(\"product_category_name\").distinct()\n",
    "distinct_values.show(truncate=False)"
   ]
  },
  {
   "cell_type": "markdown",
   "metadata": {
    "application/vnd.databricks.v1+cell": {
     "cellMetadata": {
      "byteLimit": 2048000,
      "rowLimit": 10000
     },
     "inputWidgets": {},
     "nuid": "29e3f376-5185-4b8e-87f7-3004c2e1ea84",
     "showTitle": false,
     "tableResultSettingsMap": {},
     "title": ""
    }
   },
   "source": [
    "Creating our first feature 'product_volume' by using dimensions and basic math"
   ]
  },
  {
   "cell_type": "code",
   "execution_count": null,
   "metadata": {
    "application/vnd.databricks.v1+cell": {
     "cellMetadata": {
      "byteLimit": 2048000,
      "rowLimit": 10000
     },
     "inputWidgets": {},
     "nuid": "fd9cd546-2056-4114-8a13-af3ee5fb8cfa",
     "showTitle": false,
     "tableResultSettingsMap": {},
     "title": ""
    }
   },
   "outputs": [],
   "source": [
    "order_items_products = order_items_products.withColumn(\n",
    "    'product_volume',\n",
    "    col('product_length_cm') * col('product_height_cm') * col('product_width_cm')\n",
    ")"
   ]
  },
  {
   "cell_type": "markdown",
   "metadata": {
    "application/vnd.databricks.v1+cell": {
     "cellMetadata": {
      "byteLimit": 2048000,
      "rowLimit": 10000
     },
     "inputWidgets": {},
     "nuid": "a96144a1-8dad-4254-a399-685bc545c4de",
     "showTitle": false,
     "tableResultSettingsMap": {},
     "title": ""
    }
   },
   "source": [
    "Aggregation of order-level data:\n",
    "\n",
    "- average_product_desc_length: Average length of product descriptions in an order\n",
    "- average_product_name_length: Average length of product names in an order\n",
    "- total_items_in_order: Total number of items in an order\n",
    "- total_price_of_order: Total price of all items in an order\n",
    "- total_shipping_of_order: Total shipping cost for an order\n",
    "- sum_of_all_products_weight: Sum of the weights of all products in an order\n",
    "- categories: Unique categories of products stored in an array\n",
    "- total_photos_in_order: Total number of photos associated with products in an order\n",
    "- total_product_volume: Sum of product volumes in an order\n"
   ]
  },
  {
   "cell_type": "code",
   "execution_count": null,
   "metadata": {
    "application/vnd.databricks.v1+cell": {
     "cellMetadata": {
      "byteLimit": 2048000,
      "rowLimit": 10000
     },
     "inputWidgets": {},
     "nuid": "9778f327-74db-43a3-850b-51e68c78358e",
     "showTitle": false,
     "tableResultSettingsMap": {},
     "title": ""
    }
   },
   "outputs": [],
   "source": [
    "order_items_grouped = order_items_products.groupBy(\"order_id\").agg(\n",
    "    \n",
    "    avg(\"product_description_lenght\").alias(\"average_product_desc_length\"),\n",
    "    avg(\"product_name_lenght\").alias(\"average_product_name_length\"),  \n",
    "    round(F.first(\"total_items_in_order\"),2).alias(\"total_items_in_order\"),       \n",
    "    round(F.first(\"total_price_of_order\"),2).alias(\"total_price_of_order\"),\n",
    "    round(F.first(\"total_shipping_of_order\"),2).alias(\"total_shipping_of_order\"),\n",
    "    sum('product_weight_g').alias('sum_of_all_products_weight'),\n",
    "    F.first(\"product_category_name\").alias(\"category\"),\n",
    "    sum('product_photos_qty').alias('total_photos_in_order'),\n",
    "    sum('product_volume').alias('total_product_volume')        \n",
    ")"
   ]
  },
  {
   "cell_type": "markdown",
   "metadata": {
    "application/vnd.databricks.v1+cell": {
     "cellMetadata": {
      "byteLimit": 2048000,
      "rowLimit": 10000
     },
     "inputWidgets": {},
     "nuid": "c01b609e-79c8-47ee-bf2d-d18037366bcb",
     "showTitle": false,
     "tableResultSettingsMap": {},
     "title": ""
    }
   },
   "source": [
    "Replacing our original dataset with the new one"
   ]
  },
  {
   "cell_type": "code",
   "execution_count": null,
   "metadata": {
    "application/vnd.databricks.v1+cell": {
     "cellMetadata": {
      "byteLimit": 2048000,
      "rowLimit": 10000
     },
     "inputWidgets": {},
     "nuid": "17fda703-6dc6-47b6-b92d-0d6dceb63b3c",
     "showTitle": false,
     "tableResultSettingsMap": {},
     "title": ""
    }
   },
   "outputs": [],
   "source": [
    "order_items_products = order_items_grouped"
   ]
  },
  {
   "cell_type": "markdown",
   "metadata": {
    "application/vnd.databricks.v1+cell": {
     "cellMetadata": {
      "byteLimit": 2048000,
      "rowLimit": 10000
     },
     "inputWidgets": {},
     "nuid": "8850d718-e118-4477-8105-56f3dc413bf7",
     "showTitle": false,
     "tableResultSettingsMap": {},
     "title": ""
    }
   },
   "source": [
    "Overview of certain features so we can bin them"
   ]
  },
  {
   "cell_type": "code",
   "execution_count": null,
   "metadata": {
    "application/vnd.databricks.v1+cell": {
     "cellMetadata": {
      "byteLimit": 2048000,
      "rowLimit": 10000
     },
     "inputWidgets": {},
     "nuid": "d6d2d89b-67d8-4684-80bf-9f0ebf81215c",
     "showTitle": false,
     "tableResultSettingsMap": {},
     "title": ""
    }
   },
   "outputs": [
    {
     "name": "stdout",
     "output_type": "stream",
     "text": [
      "+-------+---------------------------+\n",
      "|summary|average_product_desc_length|\n",
      "+-------+---------------------------+\n",
      "|  count|                      50287|\n",
      "|   mean|          781.7862992031796|\n",
      "| stddev|           645.119556602168|\n",
      "|    min|                        4.0|\n",
      "|    25%|                      348.0|\n",
      "|    50%|                      599.0|\n",
      "|    75%|                      981.0|\n",
      "|    max|                     3976.0|\n",
      "+-------+---------------------------+\n",
      "\n",
      "+-------+---------------------------+\n",
      "|summary|average_product_name_length|\n",
      "+-------+---------------------------+\n",
      "|  count|                      50287|\n",
      "|   mean|         48.829516912747664|\n",
      "| stddev|           9.94856844283852|\n",
      "|    min|                        5.0|\n",
      "|    25%|                       42.0|\n",
      "|    50%|                       52.0|\n",
      "|    75%|                       57.0|\n",
      "|    max|                       76.0|\n",
      "+-------+---------------------------+\n",
      "\n",
      "+-------+--------------------------+\n",
      "|summary|sum_of_all_products_weight|\n",
      "+-------+--------------------------+\n",
      "|  count|                     50287|\n",
      "|   mean|        2456.8039254678147|\n",
      "| stddev|           4799.8325010728|\n",
      "|    min|                         2|\n",
      "|    25%|                       300|\n",
      "|    50%|                       800|\n",
      "|    75%|                      2150|\n",
      "|    max|                    144300|\n",
      "+-------+--------------------------+\n",
      "\n",
      "+-------+---------------------+\n",
      "|summary|total_photos_in_order|\n",
      "+-------+---------------------+\n",
      "|  count|                50287|\n",
      "|   mean|   2.5212281504166087|\n",
      "| stddev|   2.2325838919544827|\n",
      "|    min|                    1|\n",
      "|    25%|                    1|\n",
      "|    50%|                    2|\n",
      "|    75%|                    3|\n",
      "|    max|                   62|\n",
      "+-------+---------------------+\n",
      "\n",
      "+-------+--------------------+\n",
      "|summary|total_product_volume|\n",
      "+-------+--------------------+\n",
      "|  count|               50287|\n",
      "|   mean|   17863.47270666375|\n",
      "| stddev|   30261.85013964415|\n",
      "|    min|                 168|\n",
      "|    25%|                3000|\n",
      "|    50%|                7644|\n",
      "|    75%|               20000|\n",
      "|    max|              864000|\n",
      "+-------+--------------------+\n",
      "\n"
     ]
    }
   ],
   "source": [
    "order_items_products.select(\"average_product_desc_length\").summary().show()\n",
    "order_items_products.select(\"average_product_name_length\").summary().show()\n",
    "order_items_products.select(\"sum_of_all_products_weight\").summary().show()\n",
    "order_items_products.select(\"total_photos_in_order\").summary().show()\n",
    "order_items_products.select(\"total_product_volume\").summary().show()"
   ]
  },
  {
   "cell_type": "markdown",
   "metadata": {
    "application/vnd.databricks.v1+cell": {
     "cellMetadata": {
      "byteLimit": 2048000,
      "rowLimit": 10000
     },
     "inputWidgets": {},
     "nuid": "61dd1cb1-9aa0-427c-b65c-569b1ab28f5e",
     "showTitle": false,
     "tableResultSettingsMap": {},
     "title": ""
    }
   },
   "source": [
    "Binning"
   ]
  },
  {
   "cell_type": "code",
   "execution_count": null,
   "metadata": {
    "application/vnd.databricks.v1+cell": {
     "cellMetadata": {
      "byteLimit": 2048000,
      "rowLimit": 10000
     },
     "inputWidgets": {},
     "nuid": "7f0bcb24-e31f-4d62-9292-49c8be1f77c9",
     "showTitle": false,
     "tableResultSettingsMap": {},
     "title": ""
    }
   },
   "outputs": [],
   "source": [
    "bucketBorders = [3.0, 350.0, 600.0, 985.0, 4000.0]\n",
    "order_items_products = Bucketizer(inputCol=\"average_product_desc_length\", outputCol=\"Buckets_descr\",splits=bucketBorders).transform(order_items_products)\n",
    "bucketBorders_name = [3.0, 50.0, 100.0]\n",
    "order_items_products = Bucketizer(inputCol=\"average_product_name_length\", outputCol=\"Buckets_name\",splits=bucketBorders_name).transform(order_items_products)\n",
    "bucketBorders_weight = [0.0, 300.0, 800.0, 2000.0, 150000.0]\n",
    "order_items_products = Bucketizer(inputCol=\"sum_of_all_products_weight\", outputCol=\"Buckets_weight\",splits=bucketBorders_weight).transform(order_items_products)\n",
    "bucketBorders_volume = [0.0, 3000.0, 8000.0, 20000.0, 900000.0]\n",
    "order_items_products = Bucketizer(inputCol=\"total_product_volume\", outputCol=\"Buckets_volume\",splits=bucketBorders_volume).transform(order_items_products)"
   ]
  },
  {
   "cell_type": "markdown",
   "metadata": {
    "application/vnd.databricks.v1+cell": {
     "cellMetadata": {
      "byteLimit": 2048000,
      "rowLimit": 10000
     },
     "inputWidgets": {},
     "nuid": "f230d9a1-e262-457f-a503-d0bc859b4788",
     "showTitle": false,
     "tableResultSettingsMap": {},
     "title": ""
    }
   },
   "source": [
    "and subsequent dropping of existing variables"
   ]
  },
  {
   "cell_type": "code",
   "execution_count": null,
   "metadata": {
    "application/vnd.databricks.v1+cell": {
     "cellMetadata": {
      "byteLimit": 2048000,
      "rowLimit": 10000
     },
     "inputWidgets": {},
     "nuid": "d92a5966-cf39-49d9-bd9d-83611c625adf",
     "showTitle": false,
     "tableResultSettingsMap": {},
     "title": ""
    }
   },
   "outputs": [],
   "source": [
    "columns_to_drop = [\n",
    "    \"average_product_desc_length\", \n",
    "    \"average_product_name_length\", \n",
    "    \"sum_of_all_products_weight\", \n",
    "    \"total_product_volume\"\n",
    "]\n",
    "\n",
    "order_items_products = order_items_products.drop(*columns_to_drop)"
   ]
  },
  {
   "cell_type": "markdown",
   "metadata": {
    "application/vnd.databricks.v1+cell": {
     "cellMetadata": {
      "byteLimit": 2048000,
      "rowLimit": 10000
     },
     "inputWidgets": {},
     "nuid": "29cad762-efcf-4f47-a70c-e1855a41332d",
     "showTitle": false,
     "tableResultSettingsMap": {},
     "title": ""
    }
   },
   "source": [
    "## Orders table"
   ]
  },
  {
   "cell_type": "markdown",
   "metadata": {
    "application/vnd.databricks.v1+cell": {
     "cellMetadata": {
      "byteLimit": 2048000,
      "rowLimit": 10000
     },
     "inputWidgets": {},
     "nuid": "fa72cbf1-4f4e-453f-b661-209d197bde40",
     "showTitle": false,
     "tableResultSettingsMap": {},
     "title": ""
    }
   },
   "source": [
    "Checking for nulls"
   ]
  },
  {
   "cell_type": "code",
   "execution_count": null,
   "metadata": {
    "application/vnd.databricks.v1+cell": {
     "cellMetadata": {
      "byteLimit": 2048000,
      "rowLimit": 10000
     },
     "inputWidgets": {},
     "nuid": "36593260-e576-4eb2-9ac5-0855ef7ef5f1",
     "showTitle": false,
     "tableResultSettingsMap": {},
     "title": ""
    }
   },
   "outputs": [
    {
     "name": "stdout",
     "output_type": "stream",
     "text": [
      "+--------+------------+------------------------+-----------------+----------------------------+-----------------------------+-----------------------------+-----------+\n",
      "|order_id|order_status|order_purchase_timestamp|order_approved_at|order_delivered_carrier_date|order_delivered_customer_date|order_estimated_delivery_date|customer_id|\n",
      "+--------+------------+------------------------+-----------------+----------------------------+-----------------------------+-----------------------------+-----------+\n",
      "|       0|           0|                       0|                0|                           0|                            0|                            0|          0|\n",
      "+--------+------------+------------------------+-----------------+----------------------------+-----------------------------+-----------------------------+-----------+\n",
      "\n",
      "+--------+------------+------------------------+-----------------+----------------------------+-----------------------------+-----------------------------+-----------+\n",
      "|order_id|order_status|order_purchase_timestamp|order_approved_at|order_delivered_carrier_date|order_delivered_customer_date|order_estimated_delivery_date|customer_id|\n",
      "+--------+------------+------------------------+-----------------+----------------------------+-----------------------------+-----------------------------+-----------+\n",
      "|       3|           3|                       3|               64|                         912|                         1552|                            3|          3|\n",
      "+--------+------------+------------------------+-----------------+----------------------------+-----------------------------+-----------------------------+-----------+\n",
      "\n"
     ]
    }
   ],
   "source": [
    "count_missing_values(orders).show()\n",
    "count_na_values(orders).show()"
   ]
  },
  {
   "cell_type": "markdown",
   "metadata": {
    "application/vnd.databricks.v1+cell": {
     "cellMetadata": {
      "byteLimit": 2048000,
      "rowLimit": 10000
     },
     "inputWidgets": {},
     "nuid": "54db36b4-4288-49bc-8cb1-db0baae33936",
     "showTitle": false,
     "tableResultSettingsMap": {},
     "title": ""
    }
   },
   "source": [
    "We chose to exclude any orders that were not marked as \"delivered,\" as we believed the reviews associated with them stemmed from an inconsistent process and would not provide meaningful insights into the reviews."
   ]
  },
  {
   "cell_type": "code",
   "execution_count": null,
   "metadata": {
    "application/vnd.databricks.v1+cell": {
     "cellMetadata": {
      "byteLimit": 2048000,
      "rowLimit": 10000
     },
     "inputWidgets": {},
     "nuid": "b7b54497-24e8-4b97-9c6f-bc3f4f49c121",
     "showTitle": false,
     "tableResultSettingsMap": {},
     "title": ""
    }
   },
   "outputs": [],
   "source": [
    "orders = orders.where(col(\"order_status\")== \"delivered\").select(\"*\")\n",
    "orders = orders.drop(\"order_status\")"
   ]
  },
  {
   "cell_type": "markdown",
   "metadata": {
    "application/vnd.databricks.v1+cell": {
     "cellMetadata": {
      "byteLimit": 2048000,
      "rowLimit": 10000
     },
     "inputWidgets": {},
     "nuid": "9eb48f1b-e9ec-4c79-9276-dd067d668c18",
     "showTitle": false,
     "tableResultSettingsMap": {},
     "title": ""
    }
   },
   "source": [
    "Defining a new variable, delivery time, measured in days."
   ]
  },
  {
   "cell_type": "code",
   "execution_count": null,
   "metadata": {
    "application/vnd.databricks.v1+cell": {
     "cellMetadata": {
      "byteLimit": 2048000,
      "rowLimit": 10000
     },
     "inputWidgets": {},
     "nuid": "b9f66b14-6de0-46f3-9af0-e4ac9055dfb0",
     "showTitle": false,
     "tableResultSettingsMap": {},
     "title": ""
    }
   },
   "outputs": [],
   "source": [
    "orders = orders.withColumn(\n",
    "    \"delivery_time\",\n",
    "    when(\n",
    "        col(\"order_purchase_timestamp\").isNotNull() & col(\"order_delivered_customer_date\").isNotNull(),\n",
    "        round(((unix_timestamp(col(\"order_delivered_customer_date\")) - unix_timestamp(col(\"order_purchase_timestamp\"))) / 86400).cast(\"double\"), 2)\n",
    "    ).otherwise(-1)\n",
    ")"
   ]
  },
  {
   "cell_type": "markdown",
   "metadata": {
    "application/vnd.databricks.v1+cell": {
     "cellMetadata": {
      "byteLimit": 2048000,
      "rowLimit": 10000
     },
     "inputWidgets": {},
     "nuid": "e1618848-5461-4639-acd1-cbb998cd178b",
     "showTitle": false,
     "tableResultSettingsMap": {},
     "title": ""
    }
   },
   "source": [
    "Checking for nulls after we create the new variable."
   ]
  },
  {
   "cell_type": "code",
   "execution_count": null,
   "metadata": {
    "application/vnd.databricks.v1+cell": {
     "cellMetadata": {
      "byteLimit": 2048000,
      "rowLimit": 10000
     },
     "inputWidgets": {},
     "nuid": "fce275d5-fb83-473a-acd3-b75ed1099fd8",
     "showTitle": false,
     "tableResultSettingsMap": {},
     "title": ""
    }
   },
   "outputs": [
    {
     "name": "stdout",
     "output_type": "stream",
     "text": [
      "+--------+------------------------+-----------------+----------------------------+-----------------------------+-----------------------------+-----------+-------------+\n",
      "|order_id|order_purchase_timestamp|order_approved_at|order_delivered_carrier_date|order_delivered_customer_date|order_estimated_delivery_date|customer_id|delivery_time|\n",
      "+--------+------------------------+-----------------+----------------------------+-----------------------------+-----------------------------+-----------+-------------+\n",
      "|       0|                       0|                0|                           0|                            0|                            0|          0|            3|\n",
      "+--------+------------------------+-----------------+----------------------------+-----------------------------+-----------------------------+-----------+-------------+\n",
      "\n",
      "+--------+------------------------+-----------------+----------------------------+-----------------------------+-----------------------------+-----------+-------------+\n",
      "|order_id|order_purchase_timestamp|order_approved_at|order_delivered_carrier_date|order_delivered_customer_date|order_estimated_delivery_date|customer_id|delivery_time|\n",
      "+--------+------------------------+-----------------+----------------------------+-----------------------------+-----------------------------+-----------+-------------+\n",
      "|       0|                       0|                9|                           1|                            3|                            0|          0|            0|\n",
      "+--------+------------------------+-----------------+----------------------------+-----------------------------+-----------------------------+-----------+-------------+\n",
      "\n"
     ]
    }
   ],
   "source": [
    "count_missing_values(orders).show()\n",
    "count_na_values(orders).show()"
   ]
  },
  {
   "cell_type": "markdown",
   "metadata": {
    "application/vnd.databricks.v1+cell": {
     "cellMetadata": {
      "byteLimit": 2048000,
      "rowLimit": 10000
     },
     "inputWidgets": {},
     "nuid": "30ae4430-06d2-43c0-a326-10dd12b46d5d",
     "showTitle": false,
     "tableResultSettingsMap": {},
     "title": ""
    }
   },
   "source": [
    "Dropping nulls"
   ]
  },
  {
   "cell_type": "code",
   "execution_count": null,
   "metadata": {
    "application/vnd.databricks.v1+cell": {
     "cellMetadata": {
      "byteLimit": 2048000,
      "rowLimit": 10000
     },
     "inputWidgets": {},
     "nuid": "44403444-8b4e-4582-93b4-7f1ea07a34d1",
     "showTitle": false,
     "tableResultSettingsMap": {},
     "title": ""
    }
   },
   "outputs": [],
   "source": [
    "orders = orders.dropna()"
   ]
  },
  {
   "cell_type": "markdown",
   "metadata": {
    "application/vnd.databricks.v1+cell": {
     "cellMetadata": {
      "byteLimit": 2048000,
      "rowLimit": 10000
     },
     "inputWidgets": {},
     "nuid": "77998e9a-f01c-4bb8-a916-014b25fdc7af",
     "showTitle": false,
     "tableResultSettingsMap": {},
     "title": ""
    }
   },
   "source": [
    "Over here we do the following:\n",
    "\n",
    "1. Convert Dates to Timestamps:\n",
    "   - The `order_delivered_customer_date` and `order_estimated_delivery_date` columns are converted to timestamp format for further time-based calculations.\n",
    "\n",
    "2. Add `delivered_on_time` Column:\n",
    "   - Creates a new boolean column that checks if the order was delivered on or before the estimated delivery date.\n",
    "\n",
    "3. Add `estimated_vs_actual_delay_days` Column:\n",
    "   - Computes the difference (in days) between the actual delivery date and the estimated delivery date.\n",
    "   - Positive values indicate delays, while negative values indicate early delivery.\n",
    "\n",
    "4. Add `delivered_early` Column:\n",
    "   - Creates a boolean column indicating if the order was delivered earlier than the estimated delivery date.\n",
    "\n",
    "5. Add `approval_time` Column:\n",
    "   - Calculates the time (in days) it took for the order to be approved after the purchase timestamp.\n",
    "   - If any of the timestamps are missing, assigns a default value of `-1`.\n",
    "\n",
    "6. Add `delay_status` Column:\n",
    "   - Creates a boolean column indicating whether the order was delayed (actual delivery date is later than the estimated delivery date)."
   ]
  },
  {
   "cell_type": "code",
   "execution_count": null,
   "metadata": {
    "application/vnd.databricks.v1+cell": {
     "cellMetadata": {
      "byteLimit": 2048000,
      "rowLimit": 10000
     },
     "inputWidgets": {},
     "nuid": "54e7a03e-275c-44d5-a3e6-73111202d737",
     "showTitle": false,
     "tableResultSettingsMap": {},
     "title": ""
    }
   },
   "outputs": [],
   "source": [
    "from pyspark.sql.functions import col, dayofweek, when\n",
    "# Convert date columns to timestamp format\n",
    "orders = orders.withColumn(\"order_delivered_customer_date\", to_timestamp(col(\"order_delivered_customer_date\"))) \\\n",
    "               .withColumn(\"order_estimated_delivery_date\", to_timestamp(col(\"order_estimated_delivery_date\")))\n",
    "\n",
    "# Add calculated columns\n",
    "orders = orders.withColumn(\n",
    "    \"estimated_vs_actual_delay_days\",\n",
    "    round((unix_timestamp(col(\"order_delivered_customer_date\")) - unix_timestamp(col(\"order_estimated_delivery_date\"))) / 86400, 2)\n",
    ") \\\n",
    ".withColumn(\n",
    "    \"approval_time\",\n",
    "    when(\n",
    "        col(\"order_purchase_timestamp\").isNotNull() & col(\"order_approved_at\").isNotNull(),\n",
    "        round((unix_timestamp(col(\"order_approved_at\")) - unix_timestamp(col(\"order_purchase_timestamp\"))) / 86400, 2)\n",
    "    ).otherwise(-1)\n",
    ") \\\n",
    ".withColumn(\n",
    "    \"delivery_status\",\n",
    "    when(col(\"order_delivered_customer_date\") < col(\"order_estimated_delivery_date\"), 0)  # Early delivery\n",
    "    .when(col(\"order_delivered_customer_date\") == col(\"order_estimated_delivery_date\"), 1)  # On-time delivery\n",
    "    .otherwise(2)  # Late delivery\n",
    ")\n",
    "\n",
    "\n",
    "\n",
    "# Define weekend days (Saturday = 7, Sunday = 1)\n",
    "WEEKEND_DAYS = [1, 7]\n",
    "\n",
    "# Create new variables\n",
    "orders = orders.withColumn(\n",
    "    \"order_placed_weekend\",\n",
    "    when(dayofweek(col(\"order_purchase_timestamp\")).isin(WEEKEND_DAYS), 1).otherwise(0)\n",
    ").withColumn(\n",
    "    \"order_delivered_weekend\",\n",
    "    when(dayofweek(col(\"order_delivered_customer_date\")).isin(WEEKEND_DAYS), 1).otherwise(0)\n",
    ")\n"
   ]
  },
  {
   "cell_type": "markdown",
   "metadata": {
    "application/vnd.databricks.v1+cell": {
     "cellMetadata": {
      "byteLimit": 2048000,
      "rowLimit": 10000
     },
     "inputWidgets": {},
     "nuid": "d1424ede-9a8d-4682-a061-6cb60034ff42",
     "showTitle": false,
     "tableResultSettingsMap": {},
     "title": ""
    }
   },
   "source": [
    "Dropping nulls again"
   ]
  },
  {
   "cell_type": "code",
   "execution_count": null,
   "metadata": {
    "application/vnd.databricks.v1+cell": {
     "cellMetadata": {
      "byteLimit": 2048000,
      "rowLimit": 10000
     },
     "inputWidgets": {},
     "nuid": "391748a9-c6eb-48f2-9128-409cd5fb74ef",
     "showTitle": false,
     "tableResultSettingsMap": {},
     "title": ""
    }
   },
   "outputs": [],
   "source": [
    "orders= orders.dropna()"
   ]
  },
  {
   "cell_type": "markdown",
   "metadata": {
    "application/vnd.databricks.v1+cell": {
     "cellMetadata": {
      "byteLimit": 2048000,
      "rowLimit": 10000
     },
     "inputWidgets": {},
     "nuid": "6f2e4494-3d3d-40ef-836a-187f02443f1e",
     "showTitle": false,
     "tableResultSettingsMap": {},
     "title": ""
    }
   },
   "source": [
    "## Order Reviews Table"
   ]
  },
  {
   "cell_type": "markdown",
   "metadata": {
    "application/vnd.databricks.v1+cell": {
     "cellMetadata": {
      "byteLimit": 2048000,
      "rowLimit": 10000
     },
     "inputWidgets": {},
     "nuid": "9c6cc091-9e22-4fd4-971e-1958f43dce87",
     "showTitle": false,
     "tableResultSettingsMap": {},
     "title": ""
    }
   },
   "source": [
    "Checking for nulls"
   ]
  },
  {
   "cell_type": "code",
   "execution_count": null,
   "metadata": {
    "application/vnd.databricks.v1+cell": {
     "cellMetadata": {
      "byteLimit": 2048000,
      "rowLimit": 10000
     },
     "inputWidgets": {},
     "nuid": "ccbd0a62-679c-4d12-b0b6-d360c802307c",
     "showTitle": false,
     "tableResultSettingsMap": {},
     "title": ""
    }
   },
   "outputs": [
    {
     "name": "stdout",
     "output_type": "stream",
     "text": [
      "+---------+--------+------------+--------------------+-----------------------+\n",
      "|review_id|order_id|review_score|review_creation_date|review_answer_timestamp|\n",
      "+---------+--------+------------+--------------------+-----------------------+\n",
      "|        0|       0|           0|                   0|                     11|\n",
      "+---------+--------+------------+--------------------+-----------------------+\n",
      "\n",
      "+---------+--------+------------+--------------------+-----------------------+\n",
      "|review_id|order_id|review_score|review_creation_date|review_answer_timestamp|\n",
      "+---------+--------+------------+--------------------+-----------------------+\n",
      "|        0|       0|           0|                   0|                      0|\n",
      "+---------+--------+------------+--------------------+-----------------------+\n",
      "\n"
     ]
    }
   ],
   "source": [
    "count_na_values(order_reviews).show()\n",
    "count_missing_values(order_reviews).show()"
   ]
  },
  {
   "cell_type": "markdown",
   "metadata": {
    "application/vnd.databricks.v1+cell": {
     "cellMetadata": {
      "byteLimit": 2048000,
      "rowLimit": 10000
     },
     "inputWidgets": {},
     "nuid": "bb808a98-6807-408b-a1a7-489d980b29f7",
     "showTitle": false,
     "tableResultSettingsMap": {},
     "title": ""
    }
   },
   "source": [
    "Dropping NAs and creating a new variable called review_response_time."
   ]
  },
  {
   "cell_type": "code",
   "execution_count": null,
   "metadata": {
    "application/vnd.databricks.v1+cell": {
     "cellMetadata": {
      "byteLimit": 2048000,
      "rowLimit": 10000
     },
     "inputWidgets": {},
     "nuid": "c89787ec-6997-41ab-badc-02e960888f06",
     "showTitle": false,
     "tableResultSettingsMap": {},
     "title": ""
    }
   },
   "outputs": [],
   "source": [
    "order_reviews = order_reviews.dropna()\n",
    "\n",
    "order_reviews = order_reviews.withColumn(\n",
    "    \"review_response_time\",\n",
    "    when(\n",
    "        col(\"review_creation_date\").isNotNull() & col(\"review_answer_timestamp\").isNotNull(),\n",
    "        ((unix_timestamp(col(\"review_answer_timestamp\")) - unix_timestamp(col(\"review_creation_date\"))) / 86400).cast(\"int\")\n",
    "    ).otherwise(-1)\n",
    ").drop(\"review_creation_date\")"
   ]
  },
  {
   "cell_type": "markdown",
   "metadata": {
    "application/vnd.databricks.v1+cell": {
     "cellMetadata": {
      "byteLimit": 2048000,
      "rowLimit": 10000
     },
     "inputWidgets": {},
     "nuid": "ca64a764-c836-46d0-ac3f-6876233fc033",
     "showTitle": false,
     "tableResultSettingsMap": {},
     "title": ""
    }
   },
   "source": [
    "Some order's have more than one review."
   ]
  },
  {
   "cell_type": "code",
   "execution_count": null,
   "metadata": {
    "application/vnd.databricks.v1+cell": {
     "cellMetadata": {
      "byteLimit": 2048000,
      "rowLimit": 10000
     },
     "inputWidgets": {},
     "nuid": "cc5095e7-19b0-4c13-8ada-2746b1b6af83",
     "showTitle": false,
     "tableResultSettingsMap": {},
     "title": ""
    }
   },
   "outputs": [
    {
     "data": {
      "text/plain": [
       "DataFrame[order_id: string, count: bigint]"
      ]
     },
     "metadata": {},
     "output_type": "display_data"
    }
   ],
   "source": [
    "display(order_reviews.groupBy(col(\"order_id\")).count().filter(F.col(\"count\") > 1))\n",
    "order_id_double = order_reviews.groupBy(col(\"order_id\")).count().filter(F.col(\"count\") > 1)"
   ]
  },
  {
   "cell_type": "markdown",
   "metadata": {
    "application/vnd.databricks.v1+cell": {
     "cellMetadata": {
      "byteLimit": 2048000,
      "rowLimit": 10000
     },
     "inputWidgets": {},
     "nuid": "c2b0e17d-aea4-4327-89d6-1c6350eb718c",
     "showTitle": false,
     "tableResultSettingsMap": {},
     "title": ""
    }
   },
   "source": [
    "Some orders don't have reviews."
   ]
  },
  {
   "cell_type": "code",
   "execution_count": null,
   "metadata": {
    "application/vnd.databricks.v1+cell": {
     "cellMetadata": {
      "byteLimit": 2048000,
      "rowLimit": 10000
     },
     "inputWidgets": {},
     "nuid": "9b93e54c-e14c-469e-b7d6-bc2371d50ed6",
     "showTitle": false,
     "tableResultSettingsMap": {},
     "title": ""
    }
   },
   "outputs": [
    {
     "data": {
      "text/plain": [
       "51433"
      ]
     },
     "execution_count": 27,
     "metadata": {},
     "output_type": "execute_result"
    }
   ],
   "source": [
    "order_reviews.count()"
   ]
  },
  {
   "cell_type": "code",
   "execution_count": null,
   "metadata": {
    "application/vnd.databricks.v1+cell": {
     "cellMetadata": {
      "byteLimit": 2048000,
      "rowLimit": 10000
     },
     "inputWidgets": {},
     "nuid": "44e88c70-13d2-4317-8668-146ad1758ec8",
     "showTitle": false,
     "tableResultSettingsMap": {},
     "title": ""
    }
   },
   "outputs": [
    {
     "name": "stdout",
     "output_type": "stream",
     "text": [
      "+--------------------+--------------------+------------+-----------------------+--------------------+\n",
      "|           review_id|            order_id|review_score|review_answer_timestamp|review_response_time|\n",
      "+--------------------+--------------------+------------+-----------------------+--------------------+\n",
      "|7bc2406110b926393...|73fc7af87114b3971...|           4|    2022-01-18 21:46:59|                   0|\n",
      "|80e641a11e56f04c1...|a548910a1c6147796...|           5|    2022-03-11 03:05:13|                   1|\n",
      "|e64fb393e7b32834b...|658677c97b385a9be...|           5|    2021-04-21 22:02:06|                   0|\n",
      "|c9cfd2d5ab5911836...|cdf9aa68e72324eeb...|           5|    2021-12-26 14:36:03|                   3|\n",
      "|4b49719c8a200003f...|9d6f15f95d01e79bd...|           4|    2022-02-20 10:52:22|                   4|\n",
      "+--------------------+--------------------+------------+-----------------------+--------------------+\n",
      "only showing top 5 rows\n",
      "\n"
     ]
    }
   ],
   "source": [
    "order_reviews.show(5)"
   ]
  },
  {
   "cell_type": "markdown",
   "metadata": {
    "application/vnd.databricks.v1+cell": {
     "cellMetadata": {
      "byteLimit": 2048000,
      "rowLimit": 10000
     },
     "inputWidgets": {},
     "nuid": "9c30c4e7-8ce5-4380-b0a4-9dc882d2509c",
     "showTitle": false,
     "tableResultSettingsMap": {},
     "title": ""
    }
   },
   "source": [
    "We decide to take the latest reviews possible of each order , which is why we filter by the highest review response time. This leaves us only with 1 review per order_id and it is the latest review."
   ]
  },
  {
   "cell_type": "code",
   "execution_count": null,
   "metadata": {
    "application/vnd.databricks.v1+cell": {
     "cellMetadata": {
      "byteLimit": 2048000,
      "rowLimit": 10000
     },
     "inputWidgets": {},
     "nuid": "c4fd40d7-3f02-452f-9a82-df896ddcf75f",
     "showTitle": false,
     "tableResultSettingsMap": {},
     "title": ""
    }
   },
   "outputs": [
    {
     "data": {
      "text/plain": [
       "51028"
      ]
     },
     "execution_count": 29,
     "metadata": {},
     "output_type": "execute_result"
    }
   ],
   "source": [
    "# Define a window partitioned by order_id and ordered by review_response_time descending\n",
    "window_spec = Window.partitionBy(\"order_id\").orderBy(col(\"review_answer_timestamp\").desc())\n",
    "\n",
    "# Add a row_number column to identify the top row for each order_id\n",
    "order_reviews_filtered = order_reviews.withColumn(\n",
    "    \"row_num\", row_number().over(window_spec)\n",
    ").filter(col(\"row_num\") == 1).drop(\"row_num\",\"review_answer_timestamp\")\n",
    "\n",
    "# Verify the result\n",
    "#display(order_reviews_filtered)\n",
    "order_reviews_filtered.count()"
   ]
  },
  {
   "cell_type": "markdown",
   "metadata": {
    "application/vnd.databricks.v1+cell": {
     "cellMetadata": {
      "byteLimit": 2048000,
      "rowLimit": 10000
     },
     "inputWidgets": {},
     "nuid": "2e30bf6c-f450-4ddb-98d9-58a9da8e6136",
     "showTitle": false,
     "tableResultSettingsMap": {},
     "title": ""
    }
   },
   "source": [
    "## Order Payments Table"
   ]
  },
  {
   "cell_type": "markdown",
   "metadata": {
    "application/vnd.databricks.v1+cell": {
     "cellMetadata": {
      "byteLimit": 2048000,
      "rowLimit": 10000
     },
     "inputWidgets": {},
     "nuid": "b699496d-c4ec-4912-aa01-117cf4fd868f",
     "showTitle": false,
     "tableResultSettingsMap": {},
     "title": ""
    }
   },
   "source": [
    "Check for NA values."
   ]
  },
  {
   "cell_type": "code",
   "execution_count": null,
   "metadata": {
    "application/vnd.databricks.v1+cell": {
     "cellMetadata": {
      "byteLimit": 2048000,
      "rowLimit": 10000
     },
     "inputWidgets": {},
     "nuid": "b2b88336-8f9b-49bc-977c-a89c9ed00be3",
     "showTitle": false,
     "tableResultSettingsMap": {},
     "title": ""
    }
   },
   "outputs": [
    {
     "name": "stdout",
     "output_type": "stream",
     "text": [
      "+--------+------------------+------------+--------------------+-------------+\n",
      "|order_id|payment_sequential|payment_type|payment_installments|payment_value|\n",
      "+--------+------------------+------------+--------------------+-------------+\n",
      "|       0|                 0|           0|                   0|            0|\n",
      "+--------+------------------+------------+--------------------+-------------+\n",
      "\n",
      "+--------+------------------+------------+--------------------+-------------+\n",
      "|order_id|payment_sequential|payment_type|payment_installments|payment_value|\n",
      "+--------+------------------+------------+--------------------+-------------+\n",
      "|       0|                 0|           0|                   0|            0|\n",
      "+--------+------------------+------------+--------------------+-------------+\n",
      "\n"
     ]
    }
   ],
   "source": [
    "count_missing_values(order_payments).show()\n",
    "count_na_values(order_payments).show()"
   ]
  },
  {
   "cell_type": "markdown",
   "metadata": {
    "application/vnd.databricks.v1+cell": {
     "cellMetadata": {
      "byteLimit": 2048000,
      "rowLimit": 10000
     },
     "inputWidgets": {},
     "nuid": "d02e9db0-d7fc-4f98-99d0-8e5ec9c91ae7",
     "showTitle": false,
     "tableResultSettingsMap": {},
     "title": ""
    }
   },
   "source": [
    "This code block creates several features to analyze payment behavior and voucher usage in orders:\n",
    "\n",
    "- `if_voucher_used`: Indicates whether a voucher was used in the payment for an order. Values are 1 (voucher used) or 0 (no voucher used).\n",
    "- `voucher_count`: Represents the total number of voucher payments made for an order.\n",
    "- `total_voucher_payment`: Calculates the total monetary value of payments made using vouchers for an order.\n",
    "- `total_non_voucher_payment`: Calculates the total monetary value of payments made without vouchers for an order.\n",
    "- `max_payment_sequential`: Identifies the highest sequential payment number for an order, reflecting the order of payments.\n",
    "- `max_payment_installments`: Calculates the total number of installments for an order, helping identify installment-based payments.\n",
    "- `primary_payment_type`: Determines the primary payment method for an order, based on the payment type with the first payment in the sequence (`payment_sequential = 1`).\n",
    "- `order_payments_clean`: Consolidates all the above features into a clean and structured DataFrame, providing comprehensive payment-related information for each order.\n",
    "\n",
    "These features are useful for understanding customer payment preferences, analyzing voucher usage, and gaining insights into revenue patterns.\n"
   ]
  },
  {
   "cell_type": "code",
   "execution_count": null,
   "metadata": {
    "application/vnd.databricks.v1+cell": {
     "cellMetadata": {
      "byteLimit": 2048000,
      "rowLimit": 10000
     },
     "inputWidgets": {},
     "nuid": "6af99d02-29b1-4f14-b357-fafc335d53e5",
     "showTitle": false,
     "tableResultSettingsMap": {},
     "title": ""
    }
   },
   "outputs": [],
   "source": [
    "# from pyspark.sql.functions import col, when, max, sum, round\n",
    "\n",
    "# # Step 1: Create \"voucher_used\" column to identify if a voucher was used in a payment\n",
    "# order_payments = order_payments.withColumn(\n",
    "#     \"voucher_used\",\n",
    "#     when(col(\"payment_type\") == \"voucher\", 1).otherwise(0)\n",
    "# )\n",
    "\n",
    "# # Step 2: Aggregate voucher-related metrics\n",
    "# voucher_used = order_payments.groupBy(\"order_id\").agg(\n",
    "#     max(\"voucher_used\").alias(\"if_voucher_used\")\n",
    "# )\n",
    "\n",
    "# voucher_count_df = order_payments.groupBy(\"order_id\").agg(\n",
    "#     sum(\"voucher_used\").alias(\"voucher_count\")\n",
    "# )\n",
    "\n",
    "# sum_voucher_payments = order_payments.where(col(\"payment_type\") == \"voucher\").groupBy(\"order_id\").agg(\n",
    "#     round(sum(\"payment_value\"), 2).alias(\"total_voucher_payment\")\n",
    "# )\n",
    "\n",
    "# # Step 3: Aggregate non-voucher-related metrics\n",
    "# sum_non_voucher_payments = order_payments.where(col(\"payment_type\") != \"voucher\").groupBy(\"order_id\").agg(\n",
    "#     round(sum(\"payment_value\"), 2).alias(\"total_non_voucher_payment\")\n",
    "# )\n",
    "\n",
    "# # Step 4: Calculate maximum sequential and installment payments\n",
    "# max_payment_sequential = order_payments.groupBy(\"order_id\").agg(\n",
    "#     max(\"payment_sequential\").alias(\"max_payment_sequential\")\n",
    "# )\n",
    "\n",
    "# max_payment_installments = order_payments.groupBy(\"order_id\").agg(\n",
    "#     sum(\"payment_installments\").alias(\"max_payment_installments\")\n",
    "# )\n",
    "\n",
    "# # Step 5: Identify primary payment types\n",
    "# primary_payment_types = order_payments.where(col(\"payment_sequential\") == 1).select(\n",
    "#     col(\"order_id\"), col(\"payment_type\").alias(\"primary_payment_type\")\n",
    "# )\n",
    "\n",
    "# # Step 6: Combine all metrics into a clean DataFrame\n",
    "# order_payments_clean = voucher_used.join(voucher_count_df, on=\"order_id\", how=\"inner\") \\\n",
    "#     .join(max_payment_sequential, on=\"order_id\", how=\"inner\") \\\n",
    "#     .join(sum_voucher_payments, on=\"order_id\", how=\"left\") \\\n",
    "#     .join(sum_non_voucher_payments, on=\"order_id\", how=\"left\") \\\n",
    "#     .join(primary_payment_types, on=\"order_id\", how=\"left\") \\\n",
    "#     .join(max_payment_installments, on=\"order_id\", how=\"inner\") \\\n",
    "#     .filter(col(\"primary_payment_type\").isNotNull())\n",
    "\n",
    "from pyspark.sql.functions import col, when, max, sum, round, lit\n",
    "\n",
    "# Step 1: Aggregate voucher-related metrics\n",
    "voucher_count_df = order_payments.groupBy(\"order_id\").agg(\n",
    "    sum(when(col(\"payment_type\") == \"voucher\", 1).otherwise(0)).alias(\"voucher_count\")\n",
    ")\n",
    "\n",
    "sum_voucher_payments = order_payments.where(col(\"payment_type\") == \"voucher\").groupBy(\"order_id\").agg(\n",
    "    round(sum(\"payment_value\"), 2).alias(\"total_voucher_payment\")\n",
    ")\n",
    "\n",
    "# Step 2: Calculate total order payment (voucher + non-voucher)\n",
    "total_order_payment = order_payments.groupBy(\"order_id\").agg(\n",
    "    round(sum(\"payment_value\"), 2).alias(\"total_order_payment\")\n",
    ")\n",
    "\n",
    "# Step 3: Compute voucher payment ratio\n",
    "voucher_payment_ratio = sum_voucher_payments.join(total_order_payment, \"order_id\", \"left\") \\\n",
    "    .withColumn(\"voucher_payment_ratio\",\n",
    "                round(col(\"total_voucher_payment\") / col(\"total_order_payment\"), 2)) \\\n",
    "    .drop(\"total_voucher_payment\",\"total_order_payment\")  # 🚀 Drop duplicate column\n",
    "\n",
    "# Step 4: Calculate maximum installment payments\n",
    "max_payment_installments = order_payments.groupBy(\"order_id\").agg(\n",
    "    sum(\"payment_installments\").alias(\"max_payment_installments\")\n",
    ")\n",
    "\n",
    "# Step 5: Identify primary payment types\n",
    "primary_payment_types = order_payments.where(col(\"payment_sequential\") == 1).select(\n",
    "    col(\"order_id\"), col(\"payment_type\").alias(\"primary_payment_type\")\n",
    ")\n",
    "\n",
    "# Step 6: Combine all metrics into a clean DataFrame\n",
    "order_payments_clean = voucher_count_df \\\n",
    "    .join(max_payment_installments, \"order_id\", how=\"inner\") \\\n",
    "    .join(sum_voucher_payments, \"order_id\", how=\"left\") \\\n",
    "    .join(total_order_payment, \"order_id\", how=\"left\") \\\n",
    "    .join(voucher_payment_ratio, \"order_id\", how=\"left\") \\\n",
    "    .join(primary_payment_types, \"order_id\", how=\"left\") \\\n",
    "    .filter(col(\"primary_payment_type\").isNotNull())\n"
   ]
  },
  {
   "cell_type": "code",
   "execution_count": null,
   "metadata": {},
   "outputs": [
    {
     "name": "stdout",
     "output_type": "stream",
     "text": [
      "+--------------------+-------------+------------------------+---------------------+-------------------+---------------------+--------------------+\n",
      "|            order_id|voucher_count|max_payment_installments|total_voucher_payment|total_order_payment|voucher_payment_ratio|primary_payment_type|\n",
      "+--------------------+-------------+------------------------+---------------------+-------------------+---------------------+--------------------+\n",
      "|00010242fe8c5a6d1...|            0|                       2|                 NULL|              14.44|                 NULL|         credit_card|\n",
      "|00018f77f2f0320c5...|            0|                       3|                 NULL|              51.97|                 NULL|         credit_card|\n",
      "|00042b26cf59d7ce6...|            0|                       3|                 NULL|              43.61|                 NULL|         credit_card|\n",
      "|00054e8431b9d7675...|            0|                       1|                 NULL|               6.35|                 NULL|         credit_card|\n",
      "|00061f2a7bc09da83...|            0|                       3|                 NULL|              13.77|                 NULL|         credit_card|\n",
      "+--------------------+-------------+------------------------+---------------------+-------------------+---------------------+--------------------+\n",
      "only showing top 5 rows\n",
      "\n"
     ]
    }
   ],
   "source": [
    "order_payments_clean.show(5)"
   ]
  },
  {
   "cell_type": "markdown",
   "metadata": {
    "application/vnd.databricks.v1+cell": {
     "cellMetadata": {
      "byteLimit": 2048000,
      "rowLimit": 10000
     },
     "inputWidgets": {},
     "nuid": "0db5b193-be39-414d-80cc-a0e83ee08f62",
     "showTitle": false,
     "tableResultSettingsMap": {},
     "title": ""
    }
   },
   "source": [
    "Counting missing values"
   ]
  },
  {
   "cell_type": "code",
   "execution_count": null,
   "metadata": {
    "application/vnd.databricks.v1+cell": {
     "cellMetadata": {
      "byteLimit": 2048000,
      "rowLimit": 10000
     },
     "inputWidgets": {},
     "nuid": "ebacfd6b-5c36-4c93-9086-66b481b51684",
     "showTitle": false,
     "tableResultSettingsMap": {},
     "title": ""
    }
   },
   "outputs": [],
   "source": [
    "# count_missing_values(order_payments_clean).show()\n",
    "# count_na_values(order_payments_clean).show()"
   ]
  },
  {
   "cell_type": "markdown",
   "metadata": {
    "application/vnd.databricks.v1+cell": {
     "cellMetadata": {
      "byteLimit": 2048000,
      "rowLimit": 10000
     },
     "inputWidgets": {},
     "nuid": "9e11ef75-0837-429a-ab4d-3a08952b795e",
     "showTitle": false,
     "tableResultSettingsMap": {},
     "title": ""
    }
   },
   "source": [
    "Filling missing values since some people paid with only voucher or only non-voucher methods."
   ]
  },
  {
   "cell_type": "code",
   "execution_count": null,
   "metadata": {
    "application/vnd.databricks.v1+cell": {
     "cellMetadata": {
      "byteLimit": 2048000,
      "rowLimit": 10000
     },
     "inputWidgets": {},
     "nuid": "ecaa08fc-5221-4251-81e3-d9350655124a",
     "showTitle": false,
     "tableResultSettingsMap": {},
     "title": ""
    }
   },
   "outputs": [],
   "source": [
    "\n",
    "order_payments_clean_nonulls = order_payments_clean.fillna({\"total_voucher_payment\": 0,'voucher_payment_ratio':0})"
   ]
  },
  {
   "cell_type": "markdown",
   "metadata": {
    "application/vnd.databricks.v1+cell": {
     "cellMetadata": {
      "byteLimit": 2048000,
      "rowLimit": 10000
     },
     "inputWidgets": {},
     "nuid": "e80dfadb-c0bc-4e3a-9429-084fb992110c",
     "showTitle": false,
     "tableResultSettingsMap": {},
     "title": ""
    }
   },
   "source": [
    "Checking number of rows"
   ]
  },
  {
   "cell_type": "code",
   "execution_count": null,
   "metadata": {
    "application/vnd.databricks.v1+cell": {
     "cellMetadata": {
      "byteLimit": 2048000,
      "rowLimit": 10000
     },
     "inputWidgets": {},
     "nuid": "307a1bf5-12d0-4785-bdd2-73829bc99141",
     "showTitle": false,
     "tableResultSettingsMap": {},
     "title": ""
    }
   },
   "outputs": [
    {
     "data": {
      "text/plain": [
       "51405"
      ]
     },
     "execution_count": 35,
     "metadata": {},
     "output_type": "execute_result"
    }
   ],
   "source": [
    "order_payments_clean_nonulls.count()"
   ]
  },
  {
   "cell_type": "markdown",
   "metadata": {
    "application/vnd.databricks.v1+cell": {
     "cellMetadata": {
      "byteLimit": 2048000,
      "rowLimit": 10000
     },
     "inputWidgets": {},
     "nuid": "dea887df-de82-4a56-8050-d70b7e0689f4",
     "showTitle": false,
     "tableResultSettingsMap": {},
     "title": ""
    }
   },
   "source": [
    "## Creation of basetable"
   ]
  },
  {
   "cell_type": "markdown",
   "metadata": {
    "application/vnd.databricks.v1+cell": {
     "cellMetadata": {
      "byteLimit": 2048000,
      "rowLimit": 10000
     },
     "inputWidgets": {},
     "nuid": "9a87f519-0cc0-4b64-988d-2299579980a7",
     "showTitle": false,
     "tableResultSettingsMap": {},
     "title": ""
    }
   },
   "source": [
    "Bringing it all together."
   ]
  },
  {
   "cell_type": "code",
   "execution_count": null,
   "metadata": {
    "application/vnd.databricks.v1+cell": {
     "cellMetadata": {
      "byteLimit": 2048000,
      "rowLimit": 10000
     },
     "inputWidgets": {},
     "nuid": "e7cd41b3-7e81-4941-ae88-654674624503",
     "showTitle": false,
     "tableResultSettingsMap": {},
     "title": ""
    }
   },
   "outputs": [],
   "source": [
    "from pyspark.sql.functions import col, when\n",
    "\n",
    "\n",
    "\n",
    "basetable = (\n",
    "    orders\n",
    "    .join(order_payments_clean_nonulls, on=\"order_id\", how=\"inner\")\n",
    "    .join(order_items_products, on=\"order_id\", how=\"inner\")\n",
    "    .join(order_reviews_filtered, on=\"order_id\", how=\"inner\")\n",
    ")\n",
    "\n",
    "\n",
    "\n",
    "\n"
   ]
  },
  {
   "cell_type": "code",
   "execution_count": null,
   "metadata": {
    "application/vnd.databricks.v1+cell": {
     "cellMetadata": {
      "byteLimit": 2048000,
      "rowLimit": 10000
     },
     "inputWidgets": {},
     "nuid": "9731673c-f44d-4c98-8ab5-f9a024375d0b",
     "showTitle": false,
     "tableResultSettingsMap": {},
     "title": ""
    }
   },
   "outputs": [
    {
     "name": "stdout",
     "output_type": "stream",
     "text": [
      "root\n",
      " |-- order_id: string (nullable = true)\n",
      " |-- order_purchase_timestamp: string (nullable = true)\n",
      " |-- order_approved_at: string (nullable = true)\n",
      " |-- order_delivered_carrier_date: string (nullable = true)\n",
      " |-- order_delivered_customer_date: timestamp (nullable = true)\n",
      " |-- order_estimated_delivery_date: timestamp (nullable = true)\n",
      " |-- customer_id: string (nullable = true)\n",
      " |-- delivery_time: double (nullable = true)\n",
      " |-- estimated_vs_actual_delay_days: double (nullable = true)\n",
      " |-- approval_time: double (nullable = true)\n",
      " |-- delivery_status: integer (nullable = false)\n",
      " |-- order_placed_weekend: integer (nullable = false)\n",
      " |-- order_delivered_weekend: integer (nullable = false)\n",
      " |-- voucher_count: long (nullable = true)\n",
      " |-- max_payment_installments: long (nullable = true)\n",
      " |-- total_voucher_payment: double (nullable = false)\n",
      " |-- total_order_payment: double (nullable = true)\n",
      " |-- voucher_payment_ratio: double (nullable = false)\n",
      " |-- primary_payment_type: string (nullable = true)\n",
      " |-- total_items_in_order: long (nullable = true)\n",
      " |-- total_price_of_order: double (nullable = true)\n",
      " |-- total_shipping_of_order: double (nullable = true)\n",
      " |-- category: string (nullable = true)\n",
      " |-- total_photos_in_order: long (nullable = true)\n",
      " |-- Buckets_descr: double (nullable = true)\n",
      " |-- Buckets_name: double (nullable = true)\n",
      " |-- Buckets_weight: double (nullable = true)\n",
      " |-- Buckets_volume: double (nullable = true)\n",
      " |-- review_id: string (nullable = true)\n",
      " |-- review_score: integer (nullable = true)\n",
      " |-- review_response_time: integer (nullable = true)\n",
      "\n"
     ]
    }
   ],
   "source": [
    "basetable.printSchema()"
   ]
  },
  {
   "cell_type": "markdown",
   "metadata": {
    "application/vnd.databricks.v1+cell": {
     "cellMetadata": {
      "byteLimit": 2048000,
      "rowLimit": 10000
     },
     "inputWidgets": {},
     "nuid": "41ad5d9c-deab-4f01-b9e9-983d626a299c",
     "showTitle": false,
     "tableResultSettingsMap": {},
     "title": ""
    }
   },
   "source": [
    "Existing code for text categories , we don't use it since we already have "
   ]
  },
  {
   "cell_type": "code",
   "execution_count": null,
   "metadata": {
    "application/vnd.databricks.v1+cell": {
     "cellMetadata": {
      "byteLimit": 2048000,
      "rowLimit": 10000
     },
     "inputWidgets": {},
     "nuid": "9a90da9b-c132-430b-a1b1-1e9da5856992",
     "showTitle": false,
     "tableResultSettingsMap": {},
     "title": ""
    }
   },
   "outputs": [
    {
     "name": "stdout",
     "output_type": "stream",
     "text": [
      "+--------------------+------------------------+-------------------+----------------------------+-----------------------------+-----------------------------+--------------------+-------------+------------------------------+-------------+---------------+--------------------+-----------------------+-------------+------------------------+---------------------+-------------------+---------------------+--------------------+--------------------+-----------------------+---------------------+-------------+------------+--------------+--------------+--------------------+------------+--------------------+---------------------------+-----------------+\n",
      "|            order_id|order_purchase_timestamp|  order_approved_at|order_delivered_carrier_date|order_delivered_customer_date|order_estimated_delivery_date|         customer_id|delivery_time|estimated_vs_actual_delay_days|approval_time|delivery_status|order_placed_weekend|order_delivered_weekend|voucher_count|max_payment_installments|total_voucher_payment|total_order_payment|voucher_payment_ratio|total_items_in_order|total_price_of_order|total_shipping_of_order|total_photos_in_order|Buckets_descr|Buckets_name|Buckets_weight|Buckets_volume|           review_id|review_score|review_response_time|primary_payment_type_vector|categories_vector|\n",
      "+--------------------+------------------------+-------------------+----------------------------+-----------------------------+-----------------------------+--------------------+-------------+------------------------------+-------------+---------------+--------------------+-----------------------+-------------+------------------------+---------------------+-------------------+---------------------+--------------------+--------------------+-----------------------+---------------------+-------------+------------+--------------+--------------+--------------------+------------+--------------------+---------------------------+-----------------+\n",
      "|00010242fe8c5a6d1...|     2021-09-13 08:59:02|2021-09-13 09:45:35|         2021-09-19 18:34:16|          2021-09-20 23:43:48|          2021-09-29 00:00:00|871766c5855e863f6...|         7.61|                         -8.01|         0.03|              0|                   0|                      0|            0|                       2|                  0.0|              14.44|                  0.0|                   1|               11.78|                   2.66|                    4|          1.0|         1.0|           1.0|           1.0|97ca439bc427b48bc...|           5|                   1|              (3,[0],[1.0])|   (69,[9],[1.0])|\n",
      "|00018f77f2f0320c5...|     2021-04-26 10:53:06|2021-04-26 11:05:13|         2021-05-04 14:35:00|          2021-05-12 16:04:24|          2021-05-15 00:00:00|eb28e67c4c0b83846...|        16.22|                         -2.33|         0.01|              0|                   0|                      0|            0|                       3|                  0.0|              51.97|                  0.0|                   1|               47.98|                   3.99|                    2|          0.0|         1.0|           3.0|           3.0|7b07bacd811c4117b...|           4|                   2|              (3,[0],[1.0])|  (69,[17],[1.0])|\n",
      "|00042b26cf59d7ce6...|     2021-02-04 13:57:51|2021-02-04 14:10:13|         2021-02-16 09:46:09|          2021-03-01 16:42:31|          2021-03-17 00:00:00|64b576fb70d441e8f...|        25.11|                         -15.3|         0.01|              0|                   0|                      0|            0|                       3|                  0.0|              43.61|                  0.0|                   1|               39.98|                   3.63|                    1|          1.0|         1.0|           3.0|           3.0|940144190dcba6351...|           5|                   1|              (3,[0],[1.0])|  (69,[10],[1.0])|\n",
      "|00054e8431b9d7675...|     2021-12-10 11:53:48|2021-12-10 12:10:31|         2021-12-12 01:07:48|          2021-12-18 22:03:38|          2022-01-04 00:00:00|635d9ac1680f03288...|         8.42|                        -16.08|         0.01|              0|                   0|                      1|            0|                       1|                  0.0|               6.35|                  0.0|                   1|                3.98|                   2.37|                    1|          2.0|         1.0|           0.0|           0.0|0381de7572d99d752...|           4|                  10|              (3,[0],[1.0])|   (69,[7],[1.0])|\n",
      "|00061f2a7bc09da83...|     2022-03-24 22:16:10|2022-03-24 22:28:09|         2022-03-27 05:26:55|          2022-03-29 00:04:19|          2022-04-09 00:00:00|107e6259485efac66...|         4.03|                         -11.0|         0.01|              0|                   0|                      0|            0|                       3|                  0.0|              13.77|                  0.0|                   1|                12.0|                   1.78|                    1|          2.0|         1.0|           2.0|           2.0|7e92c32ae297ef950...|           5|                   0|              (3,[0],[1.0])|   (69,[1],[1.0])|\n",
      "|0009c9a17f916a706...|     2022-04-25 09:10:41|2022-04-25 09:33:19|         2022-04-27 15:14:00|          2022-04-30 17:54:25|          2022-05-09 00:00:00|6062db572f3ef38b7...|         5.36|                         -8.25|         0.02|              0|                   0|                      1|            0|                       6|                  0.0|             130.07|                  0.0|                   1|               127.8|                   2.27|                    2|          3.0|         0.0|           0.0|           0.0|787a452b54147f8f6...|           4|                   0|              (3,[0],[1.0])|  (69,[20],[1.0])|\n",
      "|000aed2e25dbad2f9...|     2022-05-11 20:33:38|2022-05-11 20:57:03|         2022-05-16 14:26:00|          2022-05-18 16:46:31|          2022-05-22 00:00:00|6457be0b331148fb5...|         6.84|                          -3.3|         0.02|              0|                   0|                      0|            0|                       1|                  0.0|              30.55|                  0.0|                   1|                28.8|                   1.75|                    1|          0.0|         0.0|           1.0|           1.0|00800678dcf28b0ea...|           1|                   3|              (3,[0],[1.0])|  (69,[12],[1.0])|\n",
      "|000e562887b1f2006...|     2022-02-22 11:54:42|2022-02-22 12:08:37|         2022-02-26 14:18:32|          2022-03-12 18:46:34|          2022-03-19 00:00:00|b2c72d1e9f6430603...|        18.29|                         -6.22|         0.01|              0|                   0|                      1|            0|                       4|                  0.0|               8.22|                  0.0|                   1|                 5.0|                   3.22|                    3|          2.0|         1.0|           1.0|           2.0|3b9a423bdbe8734dd...|           3|                   0|              (3,[0],[1.0])|   (69,[9],[1.0])|\n",
      "|000e63d38ae8c00bb...|     2022-03-23 19:48:26|2022-03-23 20:07:49|         2022-03-26 20:38:48|          2022-03-27 14:51:47|          2022-04-05 00:00:00|860fc00d3154ce234...|         3.75|                         -8.38|         0.01|              0|                   0|                      1|            0|                       1|                  0.0|              11.36|                  0.0|                   1|                9.58|                   1.78|                    5|          2.0|         0.0|           2.0|           2.0|06f45fcd8b9b54c30...|           3|                   0|              (3,[0],[1.0])|   (69,[0],[1.0])|\n",
      "|000e906b789b55f64...|     2021-11-21 18:54:23|2021-11-21 19:09:02|         2021-11-22 20:46:54|          2021-12-09 17:27:23|          2021-12-07 00:00:00|3588484a539617d91...|        17.94|                          2.73|         0.01|              2|                   1|                      0|            0|                       3|                  0.0|               6.77|                  0.0|                   1|                 4.4|                   2.37|                    4|          1.0|         1.0|           1.0|           0.0|a5fb93d6a9e707bd8...|           3|                   2|              (3,[0],[1.0])|   (69,[7],[1.0])|\n",
      "|000f25f4d72195062...|     2022-03-07 10:33:13|2022-03-07 11:10:11|         2022-03-16 15:58:31|          2022-03-22 16:51:52|          2022-04-11 00:00:00|1a6cbc34ea404cb0a...|        15.26|                        -19.26|         0.03|              0|                   0|                      0|            0|                       1|                  0.0|              32.88|                  0.0|                   1|                24.0|                   8.88|                    1|          3.0|         0.0|           3.0|           3.0|775038877f3c50777...|           4|                   1|              (3,[0],[1.0])|  (69,[18],[1.0])|\n",
      "|001021efaa8636c29...|     2022-02-27 09:27:14|2022-02-27 09:35:41|         2022-02-27 21:43:46|          2022-03-08 20:06:33|          2022-03-23 00:00:00|2193383c470dc9cec...|         9.44|                        -14.16|         0.01|              0|                   1|                      0|            0|                       3|                  0.0|              12.82|                  0.0|                   1|                 9.8|                   3.02|                    3|          0.0|         1.0|           0.0|           0.0|fa2d523cc60173d48...|           4|                   4|              (3,[0],[1.0])|  (69,[16],[1.0])|\n",
      "|0011d82c4b53e22e8...|     2022-01-16 21:43:23|2022-01-16 21:51:25|         2022-01-23 22:08:06|          2022-01-26 22:14:02|          2022-02-15 00:00:00|02daaa0e021d624d1...|        10.02|                        -19.07|         0.01|              0|                   1|                      0|            0|                       2|                  0.0|              63.07|                  0.0|                   1|                57.8|                   5.27|                    1|          1.0|         0.0|           3.0|           3.0|04a15fdeccc0572ca...|           4|                   1|              (3,[0],[1.0])|  (69,[19],[1.0])|\n",
      "|00130c0eee84a3d90...|     2022-06-11 21:17:00|2022-06-12 05:16:24|         2022-06-12 14:22:00|          2022-06-13 15:28:25|          2022-06-20 00:00:00|b5910f24d2483d697...|         1.76|                         -6.36|         0.33|              0|                   1|                      0|            0|                       1|                  0.0|               7.17|                  0.0|                   1|                5.58|                   1.59|                    1|          2.0|         1.0|           0.0|           0.0|4ff9a24999699f710...|           5|                   0|              (3,[1],[1.0])|  (69,[30],[1.0])|\n",
      "|00169e31ef4b29dea...|     2022-01-16 09:26:39|2022-01-17 03:35:47|         2022-01-17 16:46:04|          2022-01-23 20:19:04|          2022-02-07 00:00:00|577edb526f98771b2...|         7.45|                        -14.15|         0.76|              0|                   1|                      1|            0|                       1|                  0.0|              11.02|                  0.0|                   1|                 7.8|                   3.22|                    1|          0.0|         0.0|           1.0|           2.0|28e20f3ef22e8795e...|           1|                   0|              (3,[1],[1.0])|   (69,[0],[1.0])|\n",
      "|001b76dd48a5b1eee...|     2022-03-26 16:42:53|2022-03-26 16:50:17|         2022-03-29 23:32:44|          2022-04-06 18:36:23|          2022-04-27 00:00:00|b32ff8caad5902c55...|        11.04|                        -20.22|         0.01|              0|                   1|                      0|            0|                       3|                  0.0|               19.0|                  0.0|                   1|                16.4|                    2.6|                    1|          0.0|         0.0|           0.0|           0.0|ed0405017b21b89fe...|           5|                   1|              (3,[0],[1.0])|   (69,[3],[1.0])|\n",
      "|001c85b5f68d2be0c...|     2021-11-24 19:19:18|2021-11-24 22:38:47|         2021-11-27 12:42:15|          2021-12-22 18:37:40|          2021-12-14 00:00:00|55a269f324455e783...|        27.97|                          8.78|         0.14|              2|                   0|                      0|            0|                       4|                  0.0|              22.54|                  0.0|                   1|                19.8|                   2.74|                    1|          0.0|         1.0|           2.0|           3.0|bef8f895661652ee0...|           2|                   4|              (3,[0],[1.0])|   (69,[0],[1.0])|\n",
      "|001d8f0e34a38c37f...|     2021-05-14 17:19:44|2021-05-14 17:35:11|         2021-05-24 15:45:01|          2021-05-26 13:14:50|          2021-05-24 00:00:00|870a0bdc769f9a787...|        11.83|                          2.55|         0.01|              2|                   0|                      0|            0|                       2|                  0.0|              10.71|                  0.0|                   2|                 7.6|                   3.12|                    6|          3.0|         0.0|           1.0|           2.0|51ebb8fede4fbe612...|           1|                   0|              (3,[0],[1.0])|   (69,[1],[1.0])|\n",
      "|001dbc16dc51075e9...|     2021-01-28 13:17:57|2021-01-28 13:32:16|         2021-02-01 15:59:46|          2021-02-13 13:17:47|          2021-03-20 00:00:00|c6f624cf0e9908fe3...|         16.0|                        -34.45|         0.01|              0|                   0|                      1|            0|                       1|                  0.0|              17.58|                  0.0|                   1|               13.98|                    3.6|                    1|          2.0|         1.0|           2.0|           3.0|87d38823c8e926b57...|           5|                   6|              (3,[0],[1.0])|   (69,[0],[1.0])|\n",
      "|001e7ba991be1b196...|     2021-03-18 11:47:37|2021-03-18 11:47:37|         2021-03-20 10:14:45|          2021-03-28 14:23:33|          2021-04-12 00:00:00|100bf2da12cc1fd1b...|        10.07|                         -14.4|          0.0|              0|                   0|                      1|            0|                      10|                  0.0|              42.64|                  0.0|                   1|                39.0|                   3.64|                    1|          1.0|         0.0|           2.0|           1.0|963e12d9a7c84e15c...|           5|                   2|              (3,[0],[1.0])|   (69,[3],[1.0])|\n",
      "+--------------------+------------------------+-------------------+----------------------------+-----------------------------+-----------------------------+--------------------+-------------+------------------------------+-------------+---------------+--------------------+-----------------------+-------------+------------------------+---------------------+-------------------+---------------------+--------------------+--------------------+-----------------------+---------------------+-------------+------------+--------------+--------------+--------------------+------------+--------------------+---------------------------+-----------------+\n",
      "only showing top 20 rows\n",
      "\n"
     ]
    }
   ],
   "source": [
    "from pyspark.ml import Pipeline\n",
    "from pyspark.ml.feature import StringIndexer, OneHotEncoder\n",
    "\n",
    "payment_type_indexer = StringIndexer(inputCol=\"primary_payment_type\", outputCol=\"primary_payment_type_index\")\n",
    "\n",
    "\n",
    "payment_type_encoder = OneHotEncoder(inputCol=\"primary_payment_type_index\", outputCol=\"primary_payment_type_vector\")\n",
    "\n",
    "\n",
    "categories_indexer = StringIndexer(inputCol=\"category\", outputCol=\"categories_index\")\n",
    "\n",
    "\n",
    "categories_encoder = OneHotEncoder(inputCol=\"categories_index\", outputCol=\"categories_vector\")\n",
    "\n",
    "pipeline = Pipeline(stages=[payment_type_indexer, payment_type_encoder, categories_indexer, categories_encoder])\n",
    "\n",
    "\n",
    "pipeline_model = pipeline.fit(basetable)\n",
    "vectorized_df = pipeline_model.transform(basetable).drop('primary_payment_type','primary_payment_type_index','category','categories_index')\n",
    "\n",
    "# Show the result\n",
    "vectorized_df.show()"
   ]
  },
  {
   "cell_type": "markdown",
   "metadata": {},
   "source": [
    "Storing in another basetable for redundancy."
   ]
  },
  {
   "cell_type": "code",
   "execution_count": null,
   "metadata": {
    "application/vnd.databricks.v1+cell": {
     "cellMetadata": {
      "byteLimit": 2048000,
      "rowLimit": 10000
     },
     "inputWidgets": {},
     "nuid": "9aa03afe-e822-4c8d-97b7-5f5602940df7",
     "showTitle": false,
     "tableResultSettingsMap": {},
     "title": ""
    }
   },
   "outputs": [],
   "source": [
    "basetable2 = basetable"
   ]
  },
  {
   "cell_type": "code",
   "execution_count": null,
   "metadata": {
    "application/vnd.databricks.v1+cell": {
     "cellMetadata": {
      "byteLimit": 2048000,
      "rowLimit": 10000
     },
     "inputWidgets": {},
     "nuid": "3699a79f-0603-4752-9553-6007a4cac707",
     "showTitle": false,
     "tableResultSettingsMap": {},
     "title": ""
    }
   },
   "outputs": [],
   "source": [
    "basetable = vectorized_df"
   ]
  },
  {
   "cell_type": "code",
   "execution_count": null,
   "metadata": {
    "application/vnd.databricks.v1+cell": {
     "cellMetadata": {
      "byteLimit": 2048000,
      "rowLimit": 10000
     },
     "inputWidgets": {},
     "nuid": "d26baa17-ddb1-4ec8-ac98-e912beea00d8",
     "showTitle": false,
     "tableResultSettingsMap": {},
     "title": ""
    }
   },
   "outputs": [
    {
     "name": "stdout",
     "output_type": "stream",
     "text": [
      "root\n",
      " |-- order_id: string (nullable = true)\n",
      " |-- order_purchase_timestamp: string (nullable = true)\n",
      " |-- order_approved_at: string (nullable = true)\n",
      " |-- order_delivered_carrier_date: string (nullable = true)\n",
      " |-- order_delivered_customer_date: timestamp (nullable = true)\n",
      " |-- order_estimated_delivery_date: timestamp (nullable = true)\n",
      " |-- customer_id: string (nullable = true)\n",
      " |-- delivery_time: double (nullable = true)\n",
      " |-- estimated_vs_actual_delay_days: double (nullable = true)\n",
      " |-- approval_time: double (nullable = true)\n",
      " |-- delivery_status: integer (nullable = false)\n",
      " |-- order_placed_weekend: integer (nullable = false)\n",
      " |-- order_delivered_weekend: integer (nullable = false)\n",
      " |-- voucher_count: long (nullable = true)\n",
      " |-- max_payment_installments: long (nullable = true)\n",
      " |-- total_voucher_payment: double (nullable = false)\n",
      " |-- total_order_payment: double (nullable = true)\n",
      " |-- voucher_payment_ratio: double (nullable = false)\n",
      " |-- total_items_in_order: long (nullable = true)\n",
      " |-- total_price_of_order: double (nullable = true)\n",
      " |-- total_shipping_of_order: double (nullable = true)\n",
      " |-- total_photos_in_order: long (nullable = true)\n",
      " |-- Buckets_descr: double (nullable = true)\n",
      " |-- Buckets_name: double (nullable = true)\n",
      " |-- Buckets_weight: double (nullable = true)\n",
      " |-- Buckets_volume: double (nullable = true)\n",
      " |-- review_id: string (nullable = true)\n",
      " |-- review_score: integer (nullable = true)\n",
      " |-- review_response_time: integer (nullable = true)\n",
      " |-- primary_payment_type_vector: vector (nullable = true)\n",
      " |-- categories_vector: vector (nullable = true)\n",
      "\n"
     ]
    }
   ],
   "source": [
    "basetable.printSchema()"
   ]
  },
  {
   "cell_type": "markdown",
   "metadata": {},
   "source": [
    "We create two columns for our two models. One will be based on binary classification and the other will be based on multiclass classification. In the case of multiclass classification, we bin review scores into bins of (1,2),(3,4),(5) and 0,1,2 respectively. For binary we bin them into (1,2,3) = 0 (also can be 'bad') , (4,5) = 1 (also can be 'good')"
   ]
  },
  {
   "cell_type": "code",
   "execution_count": null,
   "metadata": {
    "application/vnd.databricks.v1+cell": {
     "cellMetadata": {
      "byteLimit": 2048000,
      "rowLimit": 10000
     },
     "inputWidgets": {},
     "nuid": "1c88e238-0658-4854-9f79-54f6ed69ebc0",
     "showTitle": false,
     "tableResultSettingsMap": {},
     "title": ""
    }
   },
   "outputs": [],
   "source": [
    "basetable = basetable.withColumn(\n",
    "    \"multiclass_label\", \n",
    "    F.when((F.col(\"review_score\").isin(1, 2)), 0)\n",
    "     .when((F.col(\"review_score\").isin(3, 4)), 1)\n",
    "     .when(F.col(\"review_score\") == 5, 2)\n",
    ")\n",
    "\n",
    "\n",
    "basetable = basetable.withColumn(\n",
    "    \"binary_label\", \n",
    "    F.when((F.col(\"review_score\").isin(1, 2,3)), 0)\n",
    "     .when((F.col(\"review_score\").isin( 4,5)), 1)\n",
    "     \n",
    ")"
   ]
  },
  {
   "cell_type": "markdown",
   "metadata": {},
   "source": [
    "We check the distribution."
   ]
  },
  {
   "cell_type": "code",
   "execution_count": null,
   "metadata": {
    "application/vnd.databricks.v1+cell": {
     "cellMetadata": {
      "byteLimit": 2048000,
      "rowLimit": 10000
     },
     "inputWidgets": {},
     "nuid": "039ef31b-ca73-4ae6-ba48-36e7bcf2baa5",
     "showTitle": false,
     "tableResultSettingsMap": {},
     "title": ""
    }
   },
   "outputs": [
    {
     "name": "stdout",
     "output_type": "stream",
     "text": [
      "+------------+-----+\n",
      "|binary_label|count|\n",
      "+------------+-----+\n",
      "|           1|38166|\n",
      "|           0|10586|\n",
      "+------------+-----+\n",
      "\n",
      "+----------------+-----+\n",
      "|multiclass_label|count|\n",
      "+----------------+-----+\n",
      "|               1|13733|\n",
      "|               2|28541|\n",
      "|               0| 6478|\n",
      "+----------------+-----+\n",
      "\n"
     ]
    }
   ],
   "source": [
    "basetable.groupBy(\"binary_label\").count().show()\n",
    "basetable.groupBy(\"multiclass_label\").count().show()\n"
   ]
  },
  {
   "cell_type": "code",
   "execution_count": null,
   "metadata": {
    "application/vnd.databricks.v1+cell": {
     "cellMetadata": {
      "byteLimit": 2048000,
      "rowLimit": 10000
     },
     "inputWidgets": {},
     "nuid": "68133d60-4f9b-489e-8ece-fd52e925ae19",
     "showTitle": false,
     "tableResultSettingsMap": {},
     "title": ""
    }
   },
   "outputs": [],
   "source": [
    "basetable = basetable.dropna()"
   ]
  },
  {
   "cell_type": "markdown",
   "metadata": {
    "application/vnd.databricks.v1+cell": {
     "cellMetadata": {
      "byteLimit": 2048000,
      "rowLimit": 10000
     },
     "inputWidgets": {},
     "nuid": "36d13b6e-95ad-494e-ba4f-2e4e0f6b8bf8",
     "showTitle": false,
     "tableResultSettingsMap": {},
     "title": ""
    }
   },
   "source": [
    "## Modelling"
   ]
  },
  {
   "cell_type": "markdown",
   "metadata": {
    "application/vnd.databricks.v1+cell": {
     "cellMetadata": {
      "byteLimit": 2048000,
      "rowLimit": 10000
     },
     "inputWidgets": {},
     "nuid": "cedb39c6-721b-40bd-b2d8-ad12ab4be2a0",
     "showTitle": false,
     "tableResultSettingsMap": {},
     "title": ""
    }
   },
   "source": [
    "We drop irrelevant rows from each basetable."
   ]
  },
  {
   "cell_type": "code",
   "execution_count": null,
   "metadata": {
    "application/vnd.databricks.v1+cell": {
     "cellMetadata": {
      "byteLimit": 2048000,
      "rowLimit": 10000
     },
     "inputWidgets": {},
     "nuid": "154197e8-b450-4591-8d8d-0f40bb69657a",
     "showTitle": false,
     "tableResultSettingsMap": {},
     "title": ""
    }
   },
   "outputs": [],
   "source": [
    "basetable_binary = basetable.drop(\n",
    "    \"order_id\", \n",
    "    \"order_purchase_timestamp\", \n",
    "    \"order_approved_at\", \n",
    "    \"order_delivered_carrier_date\", \n",
    "    \"order_delivered_customer_date\", \n",
    "    \"order_estimated_delivery_date\", \n",
    "    \"customer_id\", \n",
    "    \"review_id\", \n",
    "    'categories_index',\n",
    "    'categories',\n",
    "    'primary_payment_type_index',\n",
    "    'order_count',\n",
    "    'review_score',\n",
    "    'multiclass_label',\n",
    "    'review_response_time'\n",
    "    )\n",
    "\n",
    "basetable_multiclass = basetable.drop(\n",
    "    \"order_id\", \n",
    "    \"order_purchase_timestamp\", \n",
    "    \"order_approved_at\", \n",
    "    \"order_delivered_carrier_date\", \n",
    "    \"order_delivered_customer_date\", \n",
    "    \"order_estimated_delivery_date\", \n",
    "    \"customer_id\", \n",
    "    \"review_id\", \n",
    "    'categories_index',\n",
    "    'categories',\n",
    "    'primary_payment_type_index',\n",
    "    'order_count',\n",
    "    'review_score',\n",
    "    'binary_label',\n",
    "    'review_response_time'\n",
    "    )\n",
    "\n"
   ]
  },
  {
   "cell_type": "markdown",
   "metadata": {
    "application/vnd.databricks.v1+cell": {
     "cellMetadata": {
      "byteLimit": 2048000,
      "rowLimit": 10000
     },
     "inputWidgets": {},
     "nuid": "d9d9c4c9-6351-4210-a08f-7cbd4a25e1ca",
     "showTitle": false,
     "tableResultSettingsMap": {},
     "title": ""
    }
   },
   "source": [
    "We will use RFormula to convert the basetables into a format suitable for machine learning in the spark environment."
   ]
  },
  {
   "cell_type": "code",
   "execution_count": null,
   "metadata": {
    "application/vnd.databricks.v1+cell": {
     "cellMetadata": {
      "byteLimit": 2048000,
      "rowLimit": 10000
     },
     "inputWidgets": {},
     "nuid": "5611680f-96b3-4c82-8a6c-3fd06e734d3a",
     "showTitle": false,
     "tableResultSettingsMap": {},
     "title": ""
    }
   },
   "outputs": [],
   "source": [
    "from pyspark.ml.feature import RFormula\n",
    "\n",
    "r_form_binary = RFormula(formula=\"binary_label ~ .\")\n",
    "r_form_df_binary = r_form_binary.fit(basetable_binary).transform(basetable_binary).select(\"features\", \"label\")\n",
    "\n",
    "r_form_multiclass = RFormula(formula=\"multiclass_label ~ .\")\n",
    "r_form_df_multiclass = r_form_multiclass.fit(basetable_multiclass).transform(basetable_multiclass).select(\"features\", \"label\")\n"
   ]
  },
  {
   "cell_type": "markdown",
   "metadata": {
    "application/vnd.databricks.v1+cell": {
     "cellMetadata": {
      "byteLimit": 2048000,
      "rowLimit": 10000
     },
     "inputWidgets": {},
     "nuid": "1fd91182-836f-4a46-a5ab-f10805334e27",
     "showTitle": false,
     "tableResultSettingsMap": {},
     "title": ""
    }
   },
   "source": [
    "Train test split."
   ]
  },
  {
   "cell_type": "code",
   "execution_count": null,
   "metadata": {
    "application/vnd.databricks.v1+cell": {
     "cellMetadata": {
      "byteLimit": 2048000,
      "rowLimit": 10000
     },
     "inputWidgets": {},
     "nuid": "087d395a-2ace-40d6-aea1-3ef95f9636bd",
     "showTitle": false,
     "tableResultSettingsMap": {},
     "title": ""
    }
   },
   "outputs": [],
   "source": [
    "#Create a train and test set with a 70% train, 30% test split\n",
    "train_b, test_b = r_form_df_binary.randomSplit([0.7, 0.3],seed=123)\n",
    "\n",
    "train_m, test_m = r_form_df_multiclass.randomSplit([0.7, 0.3],seed=123)"
   ]
  },
  {
   "cell_type": "markdown",
   "metadata": {
    "application/vnd.databricks.v1+cell": {
     "cellMetadata": {
      "byteLimit": 2048000,
      "rowLimit": 10000
     },
     "inputWidgets": {},
     "nuid": "7a766f6a-c31b-4355-9f15-1353852620ef",
     "showTitle": false,
     "tableResultSettingsMap": {},
     "title": ""
    }
   },
   "source": [
    "## Our Multiclass Classification Model"
   ]
  },
  {
   "cell_type": "code",
   "execution_count": null,
   "metadata": {
    "application/vnd.databricks.v1+cell": {
     "cellMetadata": {
      "byteLimit": 2048000,
      "rowLimit": 10000
     },
     "inputWidgets": {},
     "nuid": "db8a37d7-81fe-431e-922b-248717b07559",
     "showTitle": false,
     "tableResultSettingsMap": {},
     "title": ""
    }
   },
   "outputs": [
    {
     "name": "stdout",
     "output_type": "stream",
     "text": [
      "Accuracy: 0.6234400434074878\n",
      "F1 Score: 0.5065192328972162\n",
      "Model Parameters:\n",
      "  numTrees: 50\n",
      "  maxDepth: 5\n",
      "  maxBins: 16\n"
     ]
    }
   ],
   "source": [
    "from pyspark.ml.classification import RandomForestClassifier\n",
    "from pyspark.ml.evaluation import MulticlassClassificationEvaluator\n",
    " \n",
    "# Initialize the Random Forest Classifier\n",
    "rf = RandomForestClassifier(\n",
    "    labelCol=\"label\",\n",
    "    featuresCol=\"features\",\n",
    "    numTrees=50,  # Number of trees\n",
    "    maxDepth=5,   # Maximum depth of trees\n",
    "    maxBins=16     # Number of bins used for splitting\n",
    ")\n",
    " \n",
    "# Train the model\n",
    "rf_model = rf.fit(train_m)\n",
    " \n",
    "# Make predictions on the test set\n",
    "predictions = rf_model.transform(test_m)\n",
    " \n",
    " \n",
    "multi_evaluator = MulticlassClassificationEvaluator(\n",
    "    labelCol=\"label\",\n",
    "    predictionCol=\"prediction\",\n",
    "    metricName=\"accuracy\"\n",
    ")\n",
    " \n",
    "f1_evaluator = MulticlassClassificationEvaluator(\n",
    "    labelCol=\"label\",\n",
    "    predictionCol=\"prediction\",\n",
    "    metricName=\"f1\"\n",
    ")\n",
    " \n",
    "# Compute metrics\n",
    "accuracy = multi_evaluator.evaluate(predictions)\n",
    "f1_score = f1_evaluator.evaluate(predictions)\n",
    "\n",
    " \n",
    "# Print results\n",
    "print(f\"Accuracy: {accuracy}\")\n",
    "print(f\"F1 Score: {f1_score}\")\n",
    "\n",
    " \n",
    "# Print model parameters\n",
    "print(\"Model Parameters:\")\n",
    "print(f\"  numTrees: {rf_model.getNumTrees}\")\n",
    "print(f\"  maxDepth: {rf_model.getMaxDepth()}\")\n",
    "print(f\"  maxBins: {rf_model.getMaxBins()}\")"
   ]
  },
  {
   "cell_type": "markdown",
   "metadata": {},
   "source": [
    "## Our Binary Classification Model"
   ]
  },
  {
   "cell_type": "code",
   "execution_count": null,
   "metadata": {
    "application/vnd.databricks.v1+cell": {
     "cellMetadata": {
      "byteLimit": 2048000,
      "rowLimit": 10000
     },
     "inputWidgets": {},
     "nuid": "3f63e958-96f9-4f61-89b4-ad2e66eea931",
     "showTitle": false,
     "tableResultSettingsMap": {},
     "title": ""
    }
   },
   "outputs": [
    {
     "name": "stdout",
     "output_type": "stream",
     "text": [
      "GBTClassifier Test Accuracy: 0.8186380900705371\n",
      "F1 Score: 0.7794896043350809\n",
      "AUC-ROC: 0.7067142653087537\n"
     ]
    }
   ],
   "source": [
    "from pyspark.ml.classification import GBTClassifier\n",
    "from pyspark.ml.evaluation import MulticlassClassificationEvaluator, BinaryClassificationEvaluator\n",
    " \n",
    "\n",
    "gbt = GBTClassifier(\n",
    "    labelCol=\"label\",\n",
    "    featuresCol=\"features\",\n",
    "    maxIter=50  # Number of boosting iterations\n",
    ")\n",
    " \n",
    "\n",
    "gbt_model = gbt.fit(train_b)\n",
    " \n",
    "gbt_pred = gbt_model.transform(test_b)\n",
    " \n",
    "\n",
    "ovr_evaluator = MulticlassClassificationEvaluator(\n",
    "    labelCol=\"label\",\n",
    "    predictionCol=\"prediction\",\n",
    "    metricName=\"accuracy\"\n",
    ")\n",
    " \n",
    "binary_evaluator = BinaryClassificationEvaluator(\n",
    "    labelCol=\"label\",\n",
    "    rawPredictionCol=\"rawPrediction\",\n",
    "    metricName=\"areaUnderROC\"\n",
    ")\n",
    " \n",
    "f1_evaluator = MulticlassClassificationEvaluator(\n",
    "    labelCol=\"label\",\n",
    "    predictionCol=\"prediction\",\n",
    "    metricName=\"f1\"\n",
    ")\n",
    " \n",
    "ovr_accuracy = ovr_evaluator.evaluate(gbt_pred)\n",
    "f1_score = f1_evaluator.evaluate(gbt_pred)\n",
    "auc_roc = binary_evaluator.evaluate(gbt_pred)\n",
    " \n",
    "print(f\"GBTClassifier Test Accuracy: {ovr_accuracy}\")\n",
    "print(f\"F1 Score: {f1_score}\")\n",
    "print(f\"AUC-ROC: {auc_roc}\")"
   ]
  },
  {
   "cell_type": "code",
   "execution_count": null,
   "metadata": {},
   "outputs": [],
   "source": [
    "predictions = gbt_pred.orderBy(col(\"probability\").asc())\n",
    " \n",
    "from pyspark.sql.window import Window\n",
    "from pyspark.sql.functions import ntile\n",
    " \n",
    "# Assign percentile rank (1-10)\n",
    "predictions = predictions.withColumn(\"decile\", ntile(10).over(Window.orderBy(col(\"probability\").asc())))\n",
    " \n",
    "# Get total number of positive cases\n",
    "total_positives = predictions.filter(col(\"label\") == 1).count()\n",
    "total_count = predictions.count()\n",
    "baseline_rate = total_positives / total_count  # Random model's response rate\n",
    " \n",
    "# Compute lift per decile\n",
    "lift_df = predictions.groupBy(\"decile\").agg(\n",
    "    (F.sum(\"label\") / F.count(\"label\") / baseline_rate).alias(\"lift\")  # Lift = Response Rate / Baseline Rate\n",
    ")\n",
    " \n",
    "# Sort by decile\n",
    "lift_df = lift_df.orderBy(\"decile\")\n",
    " "
   ]
  },
  {
   "cell_type": "code",
   "execution_count": null,
   "metadata": {},
   "outputs": [
    {
     "data": {
      "image/png": "[encoded data removed]",
      "text/plain": [
       "<Figure size 640x480 with 1 Axes>"
      ]
     },
     "metadata": {},
     "output_type": "display_data"
    }
   ],
   "source": [
    "import matplotlib.pyplot as plt\n",
    "random_model = [1.0] * 10 \n",
    "x = range(1, 11)  # Deciles\n",
    " \n",
    "plt.plot(x, lift_df.toPandas()[\"lift\"], marker=\"o\", label=\"Model Lift\", color=\"blue\")\n",
    "plt.plot(x, random_model, linestyle=\"--\", label=\"Random Model (Baseline)\", color=\"red\")\n",
    " \n",
    "plt.xlabel(\"Deciles\")\n",
    "plt.ylabel(\"Lift\")\n",
    "plt.title(\"Lift Chart\")\n",
    "plt.legend()\n",
    "plt.grid()\n",
    "plt.show()"
   ]
  },
  {
   "cell_type": "code",
   "execution_count": null,
   "metadata": {},
   "outputs": [
    {
     "name": "stdout",
     "output_type": "stream",
     "text": [
      "True Positive Rate (TPR): 0.9789281997918835\n",
      "False Positive Rate (FPR): 0.7580946450809465\n",
      "+-----+----------+-----+\n",
      "|label|prediction|count|\n",
      "+-----+----------+-----+\n",
      "|  1.0|       1.0|11289|\n",
      "|  0.0|       1.0| 2435|\n",
      "|  1.0|       0.0|  243|\n",
      "|  0.0|       0.0|  777|\n",
      "+-----+----------+-----+\n",
      "\n"
     ]
    }
   ],
   "source": [
    "# Compute Confusion Matrix\n",
    "confusion_matrix = predictions.groupBy(\"label\", \"prediction\").count()\n",
    "tp = predictions.filter((col(\"label\") == 1) & (col(\"prediction\") == 1)).count()\n",
    "fp = predictions.filter((col(\"label\") == 0) & (col(\"prediction\") == 1)).count()\n",
    "fn = predictions.filter((col(\"label\") == 1) & (col(\"prediction\") == 0)).count()\n",
    "tn = predictions.filter((col(\"label\") == 0) & (col(\"prediction\") == 0)).count()\n",
    " \n",
    "# # Compute True Positive Rate (TPR) and False Positive Rate (FPR)\n",
    "tpr = tp / (tp + fn) if (tp + fn) > 0 else 0  # Sensitivity, Recall\n",
    "fpr = fp / (fp + tn) if (fp + tn) > 0 else 0  # Type I Error\n",
    " \n",
    "print(f\"True Positive Rate (TPR): {tpr}\")\n",
    "print(f\"False Positive Rate (FPR): {fpr}\")\n",
    "confusion_matrix.show()"
   ]
  },
  {
   "cell_type": "code",
   "execution_count": null,
   "metadata": {},
   "outputs": [
    {
     "data": {
      "image/png": "[encoded data removed]",
      "text/plain": [
       "<Figure size 600x400 with 2 Axes>"
      ]
     },
     "metadata": {},
     "output_type": "display_data"
    }
   ],
   "source": [
    "import pandas as pd\n",
    "import seaborn as sns\n",
    "import matplotlib.pyplot as plt\n",
    " \n",
    "# Manually creating the confusion matrix\n",
    "conf_matrix = pd.DataFrame(\n",
    "    [[728, 2386],  # Row: True Negative (0) / False Positive (0 → 1)\n",
    "     [237, 11200]], # Row: False Negative (1 → 0) / True Positive (1 → 1)\n",
    "    index=[\"Actual 0\", \"Actual 1\"],\n",
    "    columns=[\"Predicted 0\", \"Predicted 1\"]\n",
    ")\n",
    " \n",
    "# Plot using Seaborn\n",
    "plt.figure(figsize=(6, 4))\n",
    "sns.heatmap(conf_matrix, annot=True, fmt=\"d\", cmap=\"Blues\", linewidths=0.5)\n",
    "plt.title(\"Confusion Matrix\")\n",
    "plt.ylabel(\"Actual Label\")\n",
    "plt.xlabel(\"Predicted Label\")\n",
    "plt.show()"
   ]
  },
  {
   "cell_type": "markdown",
   "metadata": {},
   "source": [
    "Feature Importance extraction from each model"
   ]
  },
  {
   "cell_type": "code",
   "execution_count": null,
   "metadata": {
    "application/vnd.databricks.v1+cell": {
     "cellMetadata": {
      "byteLimit": 2048000,
      "rowLimit": 10000
     },
     "inputWidgets": {},
     "nuid": "878721c5-aa9b-4202-8c6b-17aa59b7a675",
     "showTitle": false,
     "tableResultSettingsMap": {},
     "title": ""
    }
   },
   "outputs": [],
   "source": [
    "import pandas as pd\n",
    "\n",
    "def ExtractFeatureImp(featureImp, dataset, featuresCol):\n",
    "    list_extract = []\n",
    "    for i in dataset.schema[featuresCol].metadata[\"ml_attr\"][\"attrs\"]:\n",
    "        list_extract = list_extract + dataset.schema[featuresCol].metadata[\"ml_attr\"][\"attrs\"][i]\n",
    "    varlist = pd.DataFrame(list_extract)\n",
    "    varlist['score'] = varlist['idx'].apply(lambda x: featureImp[x])\n",
    "    return(varlist.sort_values('score', ascending = False))\n",
    "  \n",
    "\n"
   ]
  },
  {
   "cell_type": "markdown",
   "metadata": {},
   "source": [
    "We put the features in a pandas dataframe and then plot them."
   ]
  },
  {
   "cell_type": "code",
   "execution_count": null,
   "metadata": {
    "application/vnd.databricks.v1+cell": {
     "cellMetadata": {
      "byteLimit": 2048000,
      "rowLimit": 10000
     },
     "inputWidgets": {},
     "nuid": "b64ab9b7-7e3d-4535-a0f5-64fc0149ab9b",
     "showTitle": false,
     "tableResultSettingsMap": {},
     "title": ""
    }
   },
   "outputs": [],
   "source": [
    "features_df = pd.DataFrame(ExtractFeatureImp(rf_model.featureImportances, train_m, \"features\"))\n",
    "features_df_binary = pd.DataFrame(ExtractFeatureImp(gbt_model.featureImportances, train_b, \"features\"))"
   ]
  },
  {
   "cell_type": "code",
   "execution_count": null,
   "metadata": {
    "application/vnd.databricks.v1+cell": {
     "cellMetadata": {
      "byteLimit": 2048000,
      "rowLimit": 10000
     },
     "inputWidgets": {},
     "nuid": "a2d79b2f-4fa8-4184-8720-7ac0bc8bb2ba",
     "showTitle": false,
     "tableResultSettingsMap": {},
     "title": ""
    }
   },
   "outputs": [
    {
     "name": "stderr",
     "output_type": "stream",
     "text": [
      "C:\\Users\\omgit\\AppData\\Local\\Temp\\ipykernel_20920\\130035276.py:3: FutureWarning: \n",
      "\n",
      "Passing `palette` without assigning `hue` is deprecated and will be removed in v0.14.0. Assign the `y` variable to `hue` and set `legend=False` for the same effect.\n",
      "\n",
      "  sns.barplot(x='score', y='name', data=features_df.head(10), palette='viridis')\n"
     ]
    },
    {
     "data": {
      "image/png": "[encoded data removed]",
      "text/plain": [
       "<Figure size 1000x600 with 1 Axes>"
      ]
     },
     "metadata": {},
     "output_type": "display_data"
    }
   ],
   "source": [
    "# Display the top 10 features by importance\n",
    "plt.figure(figsize=(10, 6))\n",
    "sns.barplot(x='score', y='name', data=features_df.head(10), palette='viridis')\n",
    "\n",
    "# Adding labels and title\n",
    "plt.title('Top 10 Features by Importance according to Multiclass', fontsize=16)\n",
    "plt.xlabel('Feature Importance Score', fontsize=12)\n",
    "plt.ylabel('Feature Name', fontsize=12)\n",
    "\n",
    "# Display the plot\n",
    "plt.show()\n"
   ]
  },
  {
   "cell_type": "code",
   "execution_count": null,
   "metadata": {
    "application/vnd.databricks.v1+cell": {
     "cellMetadata": {
      "byteLimit": 2048000,
      "rowLimit": 10000
     },
     "inputWidgets": {},
     "nuid": "5ef3abb2-ae41-46ff-8470-1a5480422b70",
     "showTitle": false,
     "tableResultSettingsMap": {},
     "title": ""
    }
   },
   "outputs": [
    {
     "name": "stderr",
     "output_type": "stream",
     "text": [
      "C:\\Users\\omgit\\AppData\\Local\\Temp\\ipykernel_20920\\1962473391.py:3: FutureWarning: \n",
      "\n",
      "Passing `palette` without assigning `hue` is deprecated and will be removed in v0.14.0. Assign the `y` variable to `hue` and set `legend=False` for the same effect.\n",
      "\n",
      "  sns.barplot(x='score', y='name', data=features_df_binary.head(10), palette='viridis')\n"
     ]
    },
    {
     "data": {
      "image/png": "[encoded data removed]",
      "text/plain": [
       "<Figure size 1000x600 with 1 Axes>"
      ]
     },
     "metadata": {},
     "output_type": "display_data"
    }
   ],
   "source": [
    "# Display the top 10 features by importance\n",
    "plt.figure(figsize=(10, 6))\n",
    "sns.barplot(x='score', y='name', data=features_df_binary.head(10), palette='viridis')\n",
    "\n",
    "# Adding labels and title\n",
    "plt.title('Top 10 Features by Importance according to Binary', fontsize=16)\n",
    "plt.xlabel('Feature Importance Score', fontsize=12)\n",
    "plt.ylabel('Feature Name', fontsize=12)\n",
    "\n",
    "# Display the plot\n",
    "plt.show()"
   ]
  },
  {
   "cell_type": "markdown",
   "metadata": {},
   "source": [
    "# Holdout Data"
   ]
  },
  {
   "cell_type": "markdown",
   "metadata": {
    "application/vnd.databricks.v1+cell": {
     "cellMetadata": {
      "byteLimit": 2048000,
      "rowLimit": 10000
     },
     "inputWidgets": {},
     "nuid": "2b089e1e-39ed-415a-9e03-4816cfa39a2d",
     "showTitle": false,
     "tableResultSettingsMap": {},
     "title": ""
    }
   },
   "source": [
    "Now we do the same transformations to the holdout data."
   ]
  },
  {
   "cell_type": "code",
   "execution_count": null,
   "metadata": {
    "application/vnd.databricks.v1+cell": {
     "cellMetadata": {
      "byteLimit": 2048000,
      "rowLimit": 10000
     },
     "inputWidgets": {},
     "nuid": "5e00559b-d387-4e67-af98-2b7da5503d1a",
     "showTitle": false,
     "tableResultSettingsMap": {},
     "title": ""
    }
   },
   "outputs": [],
   "source": [
    "data_dir_holdout = r\"C:/Users/omgit/Desktop/Big Data Proj/Holdout data-20250211\"\n",
    "\n",
    "h_order_items = load_csv(f\"{data_dir_holdout}/test_order_items.csv\")\n",
    "h_products = load_csv(f\"{data_dir_holdout}/test_products.csv\")\n",
    "h_order_payments = load_csv(f\"{data_dir_holdout}/test_order_payments.csv\")\n",
    "\n",
    "h_orders = load_csv(f\"{data_dir_holdout}/test_orders.csv\")"
   ]
  },
  {
   "cell_type": "code",
   "execution_count": null,
   "metadata": {
    "application/vnd.databricks.v1+cell": {
     "cellMetadata": {
      "byteLimit": 2048000,
      "rowLimit": 10000
     },
     "inputWidgets": {},
     "nuid": "67554e3a-fc8b-469e-9f62-0be441ce5676",
     "showTitle": false,
     "tableResultSettingsMap": {},
     "title": ""
    }
   },
   "outputs": [],
   "source": [
    "window_spec = Window.partitionBy(\"order_id\")\n",
    "h_order_items = h_order_items.withColumn(\"total_items_in_order\", count(\"order_item_id\").over(window_spec))\n",
    "\n",
    "total_costs = h_order_items.groupBy(\"order_id\").agg(\n",
    "    sum(col(\"price\")).alias(\"total_price_of_order\"),\n",
    "    sum(col(\"shipping_cost\")).alias(\"total_shipping_of_order\")\n",
    "    )\n",
    "\n",
    "h_order_items = h_order_items.join(total_costs, \"order_id\", how='left')\n",
    "\n",
    "h_order_items = h_order_items.drop(\"order_item_id\", \"price\", \"shipping_cost\")\n",
    "\n",
    "h_order_items_products = h_order_items.join(h_products,\"product_id\",\"left\")"
   ]
  },
  {
   "cell_type": "code",
   "execution_count": null,
   "metadata": {
    "application/vnd.databricks.v1+cell": {
     "cellMetadata": {
      "byteLimit": 2048000,
      "rowLimit": 10000
     },
     "inputWidgets": {},
     "nuid": "dcce4586-4a2b-456d-a715-b040ffa5928e",
     "showTitle": false,
     "tableResultSettingsMap": {},
     "title": ""
    }
   },
   "outputs": [],
   "source": [
    "h_order_items_products = h_order_items_products.dropna()"
   ]
  },
  {
   "cell_type": "code",
   "execution_count": null,
   "metadata": {
    "application/vnd.databricks.v1+cell": {
     "cellMetadata": {
      "byteLimit": 2048000,
      "rowLimit": 10000
     },
     "inputWidgets": {},
     "nuid": "5b048a66-9c35-4f4e-bea8-6b6b4d809a47",
     "showTitle": false,
     "tableResultSettingsMap": {},
     "title": ""
    }
   },
   "outputs": [],
   "source": [
    "h_order_items_products = h_order_items_products.withColumn(\n",
    "    'product_volume',\n",
    "    col('product_length_cm') * col('product_height_cm') * col('product_width_cm')\n",
    ")\n",
    "\n",
    "h_order_items_grouped = h_order_items_products.groupBy(\"order_id\").agg(\n",
    "    \n",
    "    avg(\"product_description_lenght\").alias(\"average_product_desc_length\"),\n",
    "    avg(\"product_name_lenght\").alias(\"average_product_name_length\"),  \n",
    "    round(F.first(\"total_items_in_order\"),2).alias(\"total_items_in_order\"),       \n",
    "    round(F.first(\"total_price_of_order\"),2).alias(\"total_price_of_order\"),\n",
    "    round(F.first(\"total_shipping_of_order\"),2).alias(\"total_shipping_of_order\"),\n",
    "    sum('product_weight_g').alias('sum_of_all_products_weight'),\n",
    "    F.first(\"product_category_name\").alias(\"category\"),\n",
    "    sum('product_photos_qty').alias('total_photos_in_order'),\n",
    "    sum('product_volume').alias('total_product_volume')        \n",
    ")"
   ]
  },
  {
   "cell_type": "code",
   "execution_count": null,
   "metadata": {
    "application/vnd.databricks.v1+cell": {
     "cellMetadata": {
      "byteLimit": 2048000,
      "rowLimit": 10000
     },
     "inputWidgets": {},
     "nuid": "adbe7ea9-74be-464c-9961-ae2db457f510",
     "showTitle": false,
     "tableResultSettingsMap": {},
     "title": ""
    }
   },
   "outputs": [],
   "source": [
    "h_order_items_products = h_order_items_grouped"
   ]
  },
  {
   "cell_type": "code",
   "execution_count": null,
   "metadata": {
    "application/vnd.databricks.v1+cell": {
     "cellMetadata": {
      "byteLimit": 2048000,
      "rowLimit": 10000
     },
     "inputWidgets": {},
     "nuid": "e68631cd-08d5-43e3-897f-1a9fffcdeda5",
     "showTitle": false,
     "tableResultSettingsMap": {},
     "title": ""
    }
   },
   "outputs": [],
   "source": [
    "bucketBorders = [3.0, 350.0, 600.0, 985.0, 4000.0]\n",
    "h_order_items_products = Bucketizer(inputCol=\"average_product_desc_length\", outputCol=\"Buckets_descr\",splits=bucketBorders).transform(h_order_items_products)\n",
    "bucketBorders_name = [3.0, 50.0, 100.0]\n",
    "h_order_items_products = Bucketizer(inputCol=\"average_product_name_length\", outputCol=\"Buckets_name\",splits=bucketBorders_name).transform(h_order_items_products)\n",
    "bucketBorders_weight = [0.0, 300.0, 800.0, 2000.0, 150000.0]\n",
    "h_order_items_products = Bucketizer(inputCol=\"sum_of_all_products_weight\", outputCol=\"Buckets_weight\",splits=bucketBorders_weight).transform(h_order_items_products)\n",
    "bucketBorders_volume = [0.0, 3000.0, 8000.0, 20000.0, 900000.0]\n",
    "h_order_items_products = Bucketizer(inputCol=\"total_product_volume\", outputCol=\"Buckets_volume\",splits=bucketBorders_volume).transform(h_order_items_products)"
   ]
  },
  {
   "cell_type": "code",
   "execution_count": null,
   "metadata": {
    "application/vnd.databricks.v1+cell": {
     "cellMetadata": {
      "byteLimit": 2048000,
      "rowLimit": 10000
     },
     "inputWidgets": {},
     "nuid": "00dc6ff9-bc98-4660-8ea1-97bca7adfacc",
     "showTitle": false,
     "tableResultSettingsMap": {},
     "title": ""
    }
   },
   "outputs": [],
   "source": [
    "columns_to_drop = [\n",
    "    \"average_product_desc_length\", \n",
    "    \"average_product_name_length\", \n",
    "    \"sum_of_all_products_weight\", \n",
    "    \"total_product_volume\"\n",
    "]\n",
    "\n",
    "h_order_items_products = h_order_items_products.drop(\"average_product_desc_length\", \n",
    "    \"average_product_name_length\", \n",
    "    \"sum_of_all_products_weight\", \n",
    "    \"total_product_volume\")"
   ]
  },
  {
   "cell_type": "code",
   "execution_count": null,
   "metadata": {
    "application/vnd.databricks.v1+cell": {
     "cellMetadata": {
      "byteLimit": 2048000,
      "rowLimit": 10000
     },
     "inputWidgets": {},
     "nuid": "c18b76f9-6114-40ca-99d0-3db3db498479",
     "showTitle": false,
     "tableResultSettingsMap": {},
     "title": ""
    }
   },
   "outputs": [],
   "source": [
    "h_orders = h_orders.where(col(\"order_status\")== \"delivered\").select(\"*\")"
   ]
  },
  {
   "cell_type": "code",
   "execution_count": null,
   "metadata": {
    "application/vnd.databricks.v1+cell": {
     "cellMetadata": {
      "byteLimit": 2048000,
      "rowLimit": 10000
     },
     "inputWidgets": {},
     "nuid": "ea5e9aeb-cc54-4218-a242-9ae13bfd6ca3",
     "showTitle": false,
     "tableResultSettingsMap": {},
     "title": ""
    }
   },
   "outputs": [],
   "source": [
    "h_orders = h_orders.drop(\"order_status\")"
   ]
  },
  {
   "cell_type": "code",
   "execution_count": null,
   "metadata": {
    "application/vnd.databricks.v1+cell": {
     "cellMetadata": {
      "byteLimit": 2048000,
      "rowLimit": 10000
     },
     "inputWidgets": {},
     "nuid": "5e63144e-f4f2-4e38-b6df-353aa93e0c2c",
     "showTitle": false,
     "tableResultSettingsMap": {},
     "title": ""
    }
   },
   "outputs": [],
   "source": [
    "h_orders = h_orders.dropna()"
   ]
  },
  {
   "cell_type": "code",
   "execution_count": null,
   "metadata": {
    "application/vnd.databricks.v1+cell": {
     "cellMetadata": {
      "byteLimit": 2048000,
      "rowLimit": 10000
     },
     "inputWidgets": {},
     "nuid": "06a6dc59-22ef-4b08-95e2-a48b1176b255",
     "showTitle": false,
     "tableResultSettingsMap": {},
     "title": ""
    }
   },
   "outputs": [],
   "source": [
    "h_orders = h_orders.withColumn(\n",
    "    \"delivery_time\",\n",
    "    when(\n",
    "        col(\"order_purchase_timestamp\").isNotNull() & col(\"order_delivered_customer_date\").isNotNull(),\n",
    "        round(((unix_timestamp(col(\"order_delivered_customer_date\")) - unix_timestamp(col(\"order_purchase_timestamp\"))) / 86400).cast(\"double\"), 2)\n",
    "    ).otherwise(-1)\n",
    ")"
   ]
  },
  {
   "cell_type": "code",
   "execution_count": null,
   "metadata": {
    "application/vnd.databricks.v1+cell": {
     "cellMetadata": {
      "byteLimit": 2048000,
      "rowLimit": 10000
     },
     "inputWidgets": {},
     "nuid": "87f6246d-0bcc-4d65-b1f9-0af6df8b6678",
     "showTitle": false,
     "tableResultSettingsMap": {},
     "title": ""
    }
   },
   "outputs": [],
   "source": [
    "h_orders = h_orders.dropna()"
   ]
  },
  {
   "cell_type": "code",
   "execution_count": null,
   "metadata": {
    "application/vnd.databricks.v1+cell": {
     "cellMetadata": {
      "byteLimit": 2048000,
      "rowLimit": 10000
     },
     "inputWidgets": {},
     "nuid": "fdd687de-c37e-4dac-b044-617a4e5d63e3",
     "showTitle": false,
     "tableResultSettingsMap": {},
     "title": ""
    }
   },
   "outputs": [],
   "source": [
    "# Convert date columns to timestamp format\n",
    "h_orders = h_orders.withColumn(\"order_delivered_customer_date\", to_timestamp(col(\"order_delivered_customer_date\"))) \\\n",
    "               .withColumn(\"order_estimated_delivery_date\", to_timestamp(col(\"order_estimated_delivery_date\")))\n",
    "\n",
    "# Add calculated columns\n",
    "h_orders = h_orders \\\n",
    "    .withColumn(\n",
    "        \"delivered_on_time\",\n",
    "        when(col(\"order_delivered_customer_date\") <= col(\"order_estimated_delivery_date\"), True).otherwise(False)\n",
    "    ) \\\n",
    "    .withColumn(\n",
    "        \"estimated_vs_actual_delay_days\",\n",
    "        round((unix_timestamp(col(\"order_delivered_customer_date\")) - unix_timestamp(col(\"order_estimated_delivery_date\"))) / 86400, 2)\n",
    "    ) \\\n",
    "    .withColumn(\n",
    "        \"delivered_early\",\n",
    "        when(col(\"order_delivered_customer_date\") < col(\"order_estimated_delivery_date\"), True).otherwise(False)\n",
    "    ) \\\n",
    "    .withColumn(\n",
    "        \"approval_time\",\n",
    "        when(\n",
    "            col(\"order_purchase_timestamp\").isNotNull() & col(\"order_approved_at\").isNotNull(),\n",
    "            round((unix_timestamp(col(\"order_approved_at\")) - unix_timestamp(col(\"order_purchase_timestamp\"))) / 86400, 2)\n",
    "        ).otherwise(-1)\n",
    "    ) \\\n",
    "    .withColumn(\n",
    "        \"delay_status\",\n",
    "        when(unix_timestamp(col(\"order_delivered_customer_date\")) > unix_timestamp(col(\"order_estimated_delivery_date\")), True).otherwise(False)\n",
    "    )"
   ]
  },
  {
   "cell_type": "code",
   "execution_count": null,
   "metadata": {
    "application/vnd.databricks.v1+cell": {
     "cellMetadata": {
      "byteLimit": 2048000,
      "rowLimit": 10000
     },
     "inputWidgets": {},
     "nuid": "58237cdd-ab6b-402c-85b4-ea5e0ed70cc5",
     "showTitle": false,
     "tableResultSettingsMap": {},
     "title": ""
    }
   },
   "outputs": [],
   "source": [
    "h_orders= h_orders.dropna()"
   ]
  },
  {
   "cell_type": "code",
   "execution_count": null,
   "metadata": {
    "application/vnd.databricks.v1+cell": {
     "cellMetadata": {
      "byteLimit": 2048000,
      "rowLimit": 10000
     },
     "inputWidgets": {},
     "nuid": "bc610cc8-bde4-4557-aff0-5560921c11e1",
     "showTitle": false,
     "tableResultSettingsMap": {},
     "title": ""
    }
   },
   "outputs": [],
   "source": [
    "from pyspark.sql.functions import col, when, max, sum, round\n",
    "\n",
    "# Step 1: Create \"voucher_used\" column to identify if a voucher was used in a payment\n",
    "h_order_payments = h_order_payments.withColumn(\n",
    "    \"voucher_used\",\n",
    "    when(col(\"payment_type\") == \"voucher\", 1).otherwise(0)\n",
    ")\n",
    "\n",
    "# Step 2: Aggregate voucher-related metrics\n",
    "voucher_used = h_order_payments.groupBy(\"order_id\").agg(\n",
    "    max(\"voucher_used\").alias(\"if_voucher_used\")\n",
    ")\n",
    "\n",
    "voucher_count_df = h_order_payments.groupBy(\"order_id\").agg(\n",
    "    sum(\"voucher_used\").alias(\"voucher_count\")\n",
    ")\n",
    "\n",
    "sum_voucher_payments = h_order_payments.where(col(\"payment_type\") == \"voucher\").groupBy(\"order_id\").agg(\n",
    "    round(sum(\"payment_value\"), 2).alias(\"total_voucher_payment\")\n",
    ")\n",
    "\n",
    "# Step 3: Aggregate non-voucher-related metrics\n",
    "sum_non_voucher_payments = h_order_payments.where(col(\"payment_type\") != \"voucher\").groupBy(\"order_id\").agg(\n",
    "    round(sum(\"payment_value\"), 2).alias(\"total_non_voucher_payment\")\n",
    ")\n",
    "\n",
    "# Step 4: Calculate maximum sequential and installment payments\n",
    "max_payment_sequential = h_order_payments.groupBy(\"order_id\").agg(\n",
    "    max(\"payment_sequential\").alias(\"max_payment_sequential\")\n",
    ")\n",
    "\n",
    "max_payment_installments = h_order_payments.groupBy(\"order_id\").agg(\n",
    "    sum(\"payment_installments\").alias(\"max_payment_installments\")\n",
    ")\n",
    "\n",
    "# Step 5: Identify primary payment types\n",
    "primary_payment_types = h_order_payments.where(col(\"payment_sequential\") == 1).select(\n",
    "    col(\"order_id\"), col(\"payment_type\").alias(\"primary_payment_type\")\n",
    ")\n",
    "\n",
    "# Step 6: Combine all metrics into a clean DataFrame\n",
    "h_order_payments_clean = voucher_used.join(voucher_count_df, on=\"order_id\", how=\"inner\") \\\n",
    "    .join(max_payment_sequential, on=\"order_id\", how=\"inner\") \\\n",
    "    .join(sum_voucher_payments, on=\"order_id\", how=\"left\") \\\n",
    "    .join(sum_non_voucher_payments, on=\"order_id\", how=\"left\") \\\n",
    "    .join(primary_payment_types, on=\"order_id\", how=\"left\") \\\n",
    "    .join(max_payment_installments, on=\"order_id\", how=\"inner\") \\\n",
    "    .filter(col(\"primary_payment_type\").isNotNull())"
   ]
  },
  {
   "cell_type": "code",
   "execution_count": null,
   "metadata": {
    "application/vnd.databricks.v1+cell": {
     "cellMetadata": {
      "byteLimit": 2048000,
      "rowLimit": 10000
     },
     "inputWidgets": {},
     "nuid": "d5ea4bc8-f3cc-413c-8507-fda75504d337",
     "showTitle": false,
     "tableResultSettingsMap": {},
     "title": ""
    }
   },
   "outputs": [],
   "source": [
    "h_order_payments_clean_nonulls = h_order_payments_clean.fillna({\"total_voucher_payment\": 0,\"total_non_voucher_payment\": 0})"
   ]
  },
  {
   "cell_type": "code",
   "execution_count": null,
   "metadata": {
    "application/vnd.databricks.v1+cell": {
     "cellMetadata": {
      "byteLimit": 2048000,
      "rowLimit": 10000
     },
     "inputWidgets": {},
     "nuid": "c8fb2558-ecd0-48f3-a35c-3b2aecb249e5",
     "showTitle": false,
     "tableResultSettingsMap": {},
     "title": ""
    }
   },
   "outputs": [],
   "source": [
    "h_basetable = (\n",
    "    h_orders\n",
    "    .join(h_order_payments_clean_nonulls, on=\"order_id\", how=\"inner\")\n",
    "    .join(h_order_items_products, on=\"order_id\", how=\"inner\")\n",
    "    \n",
    ")"
   ]
  },
  {
   "cell_type": "code",
   "execution_count": null,
   "metadata": {
    "application/vnd.databricks.v1+cell": {
     "cellMetadata": {
      "byteLimit": 2048000,
      "rowLimit": 10000
     },
     "inputWidgets": {},
     "nuid": "21a9de8e-4d90-4183-996c-2330e30b41d8",
     "showTitle": false,
     "tableResultSettingsMap": {},
     "title": ""
    }
   },
   "outputs": [
    {
     "name": "stdout",
     "output_type": "stream",
     "text": [
      "+--------------------+-----+\n",
      "|primary_payment_type|count|\n",
      "+--------------------+-----+\n",
      "|              mobile| 2304|\n",
      "|         credit_card| 9469|\n",
      "|             voucher|  158|\n",
      "|          debit_card|  487|\n",
      "+--------------------+-----+\n",
      "\n"
     ]
    }
   ],
   "source": [
    "h_basetable.groupBy('primary_payment_type').count().show()"
   ]
  },
  {
   "cell_type": "code",
   "execution_count": null,
   "metadata": {
    "application/vnd.databricks.v1+cell": {
     "cellMetadata": {
      "byteLimit": 2048000,
      "rowLimit": 10000
     },
     "inputWidgets": {},
     "nuid": "26da3a92-c6a1-4af2-a807-a3b49ed5f1ef",
     "showTitle": false,
     "tableResultSettingsMap": {},
     "title": ""
    }
   },
   "outputs": [
    {
     "data": {
      "text/plain": [
       "['order_id',\n",
       " 'order_purchase_timestamp',\n",
       " 'order_approved_at',\n",
       " 'order_delivered_carrier_date',\n",
       " 'order_delivered_customer_date',\n",
       " 'order_estimated_delivery_date',\n",
       " 'customer_id',\n",
       " 'delivery_time',\n",
       " 'delivered_on_time',\n",
       " 'estimated_vs_actual_delay_days',\n",
       " 'delivered_early',\n",
       " 'approval_time',\n",
       " 'delay_status',\n",
       " 'if_voucher_used',\n",
       " 'voucher_count',\n",
       " 'max_payment_sequential',\n",
       " 'total_voucher_payment',\n",
       " 'total_non_voucher_payment',\n",
       " 'primary_payment_type',\n",
       " 'max_payment_installments',\n",
       " 'total_items_in_order',\n",
       " 'total_price_of_order',\n",
       " 'total_shipping_of_order',\n",
       " 'category',\n",
       " 'total_photos_in_order',\n",
       " 'Buckets_descr',\n",
       " 'Buckets_name',\n",
       " 'Buckets_weight',\n",
       " 'Buckets_volume']"
      ]
     },
     "execution_count": 127,
     "metadata": {},
     "output_type": "execute_result"
    }
   ],
   "source": [
    "h_basetable.columns"
   ]
  },
  {
   "cell_type": "markdown",
   "metadata": {},
   "source": [
    "We fit the pipeline on the original table so that the structure is the same and we transform our holdout_basetable (h_basetable) on the basis of that. Our holdout data had fewer product categories compared to our training data so we had to fit it based on our training data."
   ]
  },
  {
   "cell_type": "code",
   "execution_count": null,
   "metadata": {
    "application/vnd.databricks.v1+cell": {
     "cellMetadata": {
      "byteLimit": 2048000,
      "rowLimit": 10000
     },
     "inputWidgets": {},
     "nuid": "ca79e92f-0d27-47bb-8703-ba02e2d32ae3",
     "showTitle": false,
     "tableResultSettingsMap": {},
     "title": ""
    }
   },
   "outputs": [
    {
     "name": "stdout",
     "output_type": "stream",
     "text": [
      "+--------------------+------------------------+-------------------+----------------------------+-----------------------------+-----------------------------+--------------------+-------------+-----------------+------------------------------+---------------+-------------+------------+---------------+-------------+----------------------+---------------------+-------------------------+------------------------+--------------------+--------------------+-----------------------+---------------------+-------------+------------+--------------+--------------+---------------------------+-----------------+\n",
      "|            order_id|order_purchase_timestamp|  order_approved_at|order_delivered_carrier_date|order_delivered_customer_date|order_estimated_delivery_date|         customer_id|delivery_time|delivered_on_time|estimated_vs_actual_delay_days|delivered_early|approval_time|delay_status|if_voucher_used|voucher_count|max_payment_sequential|total_voucher_payment|total_non_voucher_payment|max_payment_installments|total_items_in_order|total_price_of_order|total_shipping_of_order|total_photos_in_order|Buckets_descr|Buckets_name|Buckets_weight|Buckets_volume|primary_payment_type_vector|categories_vector|\n",
      "+--------------------+------------------------+-------------------+----------------------------+-----------------------------+-----------------------------+--------------------+-------------+-----------------+------------------------------+---------------+-------------+------------+---------------+-------------+----------------------+---------------------+-------------------------+------------------------+--------------------+--------------------+-----------------------+---------------------+-------------+------------+--------------+--------------+---------------------------+-----------------+\n",
      "|00024acbcdf0a6daa...|     2022-08-08 10:00:35|2022-08-08 10:10:18|         2022-08-10 13:28:00|          2022-08-14 13:32:39|          2022-08-20 00:00:00|af861d436cfc08b2c...|         6.15|             true|                         -5.44|           true|         0.01|       false|              0|            0|                     1|                  0.0|                     5.16|                       2|                   1|                 2.6|                   2.56|                    1|          1.0|         0.0|           0.0|           0.0|              (3,[0],[1.0])|  (69,[12],[1.0])|\n",
      "|000576fe39319847c...|     2022-07-04 12:08:27|2022-07-05 16:35:48|         2022-07-05 12:15:00|          2022-07-09 14:04:07|          2022-07-25 00:00:00|fda4476abb6307ab3...|         5.08|             true|                        -15.41|           true|         1.19|       false|              0|            0|                     1|                  0.0|                   176.15|                      10|                   1|               162.0|                  14.15|                    3|          3.0|         0.0|           3.0|           3.0|              (3,[0],[1.0])|  (69,[10],[1.0])|\n",
      "|0005f50442cb953dc...|     2022-07-02 13:59:39|2022-07-02 14:10:56|         2022-07-03 14:25:00|          2022-07-04 17:28:31|          2022-07-23 00:00:00|0782c41380992a5a5...|         2.15|             true|                        -18.27|           true|         0.01|       false|              0|            0|                     1|                  0.0|                    13.08|                       1|                   1|                10.8|                   2.28|                    1|          3.0|         1.0|           2.0|           0.0|              (3,[0],[1.0])|  (69,[38],[1.0])|\n",
      "|00063b381e2406b52...|     2022-07-27 17:21:27|2022-07-27 18:00:06|         2022-07-30 14:52:00|          2022-08-07 13:56:52|          2022-08-07 00:00:00|3fb97204945ca0c01...|        10.86|            false|                          0.58|          false|         0.03|        true|              0|            0|                     1|                  0.0|                     11.6|                       5|                   1|                 9.0|                    2.6|                    1|          0.0|         0.0|           0.0|           0.0|              (3,[0],[1.0])|  (69,[16],[1.0])|\n",
      "|0006ec9db01a64e59...|     2022-07-24 17:04:17|2022-07-24 17:24:20|         2022-07-25 11:02:00|          2022-07-31 01:04:15|          2022-08-22 00:00:00|7ed0ea20347f67fe6...|         6.33|             true|                        -21.96|           true|         0.01|       false|              0|            0|                     1|                  0.0|                    19.46|                       4|                   1|                14.8|                   4.66|                    1|          0.0|         1.0|           2.0|           3.0|              (3,[0],[1.0])|   (69,[0],[1.0])|\n",
      "|0009792311464db53...|     2022-08-14 20:43:09|2022-08-15 12:15:10|         2022-08-15 15:28:00|          2022-08-22 12:02:27|          2022-08-28 00:00:00|4987996ddcd0ddb20...|         7.64|             true|                          -5.5|           true|         0.65|       false|              0|            0|                     1|                  0.0|                    25.51|                       1|                   1|               19.98|                   5.53|                    4|          3.0|         1.0|           2.0|           3.0|              (3,[1],[1.0])|   (69,[2],[1.0])|\n",
      "|001ac194d4a326a6f...|     2022-07-04 11:39:11|2022-07-06 02:51:10|         2022-07-06 08:58:00|          2022-07-12 17:48:49|          2022-07-17 00:00:00|3d01f9412759a6a68...|         8.26|             true|                         -4.26|           true|         1.63|       false|              0|            0|                     1|                  0.0|                    12.51|                       1|                   1|                10.8|                   1.71|                    2|          3.0|         1.0|           1.0|           0.0|              (3,[1],[1.0])|  (69,[22],[1.0])|\n",
      "|0025c5d1a8ca53a24...|     2022-07-08 09:17:59|2022-07-08 09:30:09|         2022-07-10 13:36:00|          2022-07-31 10:51:58|          2022-08-03 00:00:00|fa78b26c2fa23b2eb...|        23.07|             true|                         -2.55|           true|         0.01|       false|              0|            0|                     1|                  0.0|                    83.88|                       7|                   1|                78.0|                   5.88|                    9|          3.0|         1.0|           3.0|           1.0|              (3,[0],[1.0])|   (69,[2],[1.0])|\n",
      "|002834535f7a609a5...|     2022-07-23 17:26:00|2022-07-28 23:30:59|         2022-07-24 15:53:00|          2022-08-11 01:48:33|          2022-08-14 00:00:00|457626c51309d814c...|        18.35|             true|                         -2.92|           true|         5.25|       false|              0|            0|                     1|                  0.0|                    11.43|                       1|                   1|                 7.6|                   3.84|                    3|          1.0|         1.0|           1.0|           0.0|              (3,[1],[1.0])|   (69,[7],[1.0])|\n",
      "|0028de0ca693a1bb2...|     2022-08-15 14:59:36|2022-08-17 03:35:17|         2022-08-17 09:45:00|          2022-08-28 18:58:21|          2022-09-11 00:00:00|f94d7c267f1bb6956...|        13.17|             true|                        -13.21|           true|         1.52|       false|              0|            0|                     1|                  0.0|                     9.06|                       1|                   1|                 6.0|                   3.06|                    4|          3.0|         1.0|           2.0|           2.0|              (3,[1],[1.0])|  (69,[44],[1.0])|\n",
      "|0029c5db35ef291ce...|     2022-08-25 00:09:40|2022-08-28 03:50:23|         2022-08-29 13:24:00|          2022-08-30 18:34:37|          2022-09-03 00:00:00|b31e69e978d97f380...|         5.77|             true|                         -3.23|           true|         3.15|       false|              0|            0|                     1|                  0.0|                   102.87|                       1|                   1|               98.55|                   4.32|                    5|          3.0|         1.0|           3.0|           3.0|              (3,[1],[1.0])|   (69,[1],[1.0])|\n",
      "|002f16b7bc4530031...|     2022-07-02 16:51:47|2022-07-02 17:11:12|         2022-07-03 16:35:00|          2022-07-06 18:14:47|          2022-07-25 00:00:00|eb859d4b5ab54b643...|         4.06|             true|                        -18.24|           true|         0.01|       false|              0|            0|                     1|                  0.0|                    56.83|                       1|                   1|               49.98|                   6.85|                    1|          1.0|         1.0|           3.0|           3.0|                  (3,[],[])|   (69,[4],[1.0])|\n",
      "|003423b755b562962...|     2022-07-08 11:28:17|2022-07-10 04:25:09|         2022-07-13 15:00:00|          2022-07-24 21:33:38|          2022-08-08 00:00:00|7e765e16bdd8cf6bb...|        16.42|             true|                         -14.1|           true|         1.71|       false|              0|            0|                     1|                  0.0|                    52.27|                       1|                   1|               46.55|                   5.72|                    3|          3.0|         1.0|           2.0|           1.0|              (3,[1],[1.0])|  (69,[10],[1.0])|\n",
      "|00345f33869628341...|     2022-08-20 11:06:46|2022-08-20 15:12:10|         2022-08-21 13:18:00|          2022-08-30 21:13:48|          2022-09-11 00:00:00|93b592cbb89abbda7...|        10.42|             true|                        -11.12|           true|         0.17|       false|              0|            0|                     1|                  0.0|                    13.47|                       1|                   1|                9.78|                   3.69|                    1|          1.0|         0.0|           2.0|           1.0|              (3,[0],[1.0])|   (69,[1],[1.0])|\n",
      "|0036757472ece3dde...|     2022-07-19 14:58:59|2022-07-19 15:10:11|         2022-08-07 07:45:00|          2022-08-09 14:33:40|          2022-08-20 00:00:00|be03685420bb97786...|        20.98|             true|                        -10.39|           true|         0.01|       false|              0|            0|                     1|                  0.0|                    40.61|                       1|                   1|                27.4|                  13.21|                    1|          3.0|         0.0|           3.0|           3.0|                  (3,[],[])|  (69,[18],[1.0])|\n",
      "|0039500db36d50d7d...|     2022-07-06 10:37:32|2022-07-06 10:51:09|         2022-07-07 09:15:00|          2022-07-21 00:08:29|          2022-08-03 00:00:00|77971c2442b1adbbe...|        14.56|             true|                        -12.99|           true|         0.01|       false|              0|            0|                     1|                  0.0|                    40.65|                       2|                   1|               33.98|                   6.67|                    1|          0.0|         0.0|           2.0|           2.0|              (3,[0],[1.0])|   (69,[2],[1.0])|\n",
      "|003a7f59d7e08a9c6...|     2022-08-19 12:51:50|2022-08-20 11:49:46|         2022-08-22 12:04:00|          2022-08-27 22:32:15|          2022-08-29 00:00:00|3725c5b8c1cf5ee69...|          8.4|             true|                         -1.06|           true|         0.96|       false|              0|            0|                     1|                  0.0|                    26.86|                      10|                   1|                23.8|                   3.06|                    1|          1.0|         0.0|           1.0|           2.0|              (3,[0],[1.0])|   (69,[5],[1.0])|\n",
      "|003a94f778ef8cfd5...|     2022-08-03 14:52:31|2022-08-03 15:05:14|         2022-08-06 14:12:00|          2022-08-24 00:18:38|          2022-08-15 00:00:00|ffec490ab531184a4...|        20.39|            false|                          9.01|          false|         0.01|        true|              0|            0|                     1|                  0.0|                     11.6|                       1|                   1|                7.98|                   3.62|                    4|          3.0|         0.0|           1.0|           2.0|              (3,[0],[1.0])|  (69,[22],[1.0])|\n",
      "|003cc6161d7a2593f...|     2022-08-03 19:33:35|2022-08-03 20:04:14|         2022-08-06 15:02:00|          2022-08-07 11:32:11|          2022-08-08 00:00:00|0c35f915ac95c942a...|         3.67|             true|                         -0.52|           true|         0.02|       false|              0|            0|                     1|                  0.0|                    19.58|                       4|                   1|                17.0|                   2.58|                    1|          2.0|         1.0|           2.0|           3.0|              (3,[0],[1.0])|   (69,[5],[1.0])|\n",
      "|003d9fc84ad902adf...|     2022-08-19 19:43:01|2022-08-20 19:35:22|         2022-08-22 10:06:00|          2022-08-27 18:17:49|          2022-09-05 00:00:00|f26b89209f5378f95...|         7.94|             true|                         -8.24|           true|         0.99|       false|              0|            0|                     1|                  0.0|                    18.95|                       3|                   1|                13.4|                   5.55|                    1|          3.0|         1.0|           1.0|           0.0|              (3,[0],[1.0])|   (69,[1],[1.0])|\n",
      "+--------------------+------------------------+-------------------+----------------------------+-----------------------------+-----------------------------+--------------------+-------------+-----------------+------------------------------+---------------+-------------+------------+---------------+-------------+----------------------+---------------------+-------------------------+------------------------+--------------------+--------------------+-----------------------+---------------------+-------------+------------+--------------+--------------+---------------------------+-----------------+\n",
      "only showing top 20 rows\n",
      "\n"
     ]
    }
   ],
   "source": [
    "from pyspark.ml import Pipeline\n",
    "from pyspark.ml.feature import StringIndexer, OneHotEncoder\n",
    "\n",
    "# Step 2: StringIndexer for 'primary_payment_type'\n",
    "payment_type_indexer = StringIndexer(inputCol=\"primary_payment_type\", outputCol=\"primary_payment_type_index\")\n",
    "\n",
    "# Step 3: OneHotEncoder for the indexed 'primary_payment_type'\n",
    "payment_type_encoder = OneHotEncoder(inputCol=\"primary_payment_type_index\", outputCol=\"primary_payment_type_vector\")\n",
    "\n",
    "# Step 4: StringIndexer for the exploded 'category' column\n",
    "categories_indexer = StringIndexer(inputCol=\"category\", outputCol=\"categories_index\")\n",
    "\n",
    "# Step 5: OneHotEncoder for the indexed 'category' column\n",
    "categories_encoder = OneHotEncoder(inputCol=\"categories_index\", outputCol=\"categories_vector\")\n",
    "\n",
    "# Step 6: Combine all transformations in a Pipeline\n",
    "pipeline = Pipeline(stages=[payment_type_indexer, payment_type_encoder, categories_indexer, categories_encoder])\n",
    "\n",
    "# Step 7: Fit the pipeline to the training data (basetable2)\n",
    "pipeline_model = pipeline.fit(basetable2)\n",
    "\n",
    "# Step 8: Transform the holdout data (h_basetable) using the fitted pipeline model\n",
    "vectorized_df_holdout = pipeline_model.transform(h_basetable)\n",
    "\n",
    "# Drop the original columns that were indexed or encoded\n",
    "vectorized_df_holdout = vectorized_df_holdout.drop('primary_payment_type', 'primary_payment_type_index', 'category', 'categories_index')\n",
    "\n",
    "# Show the result for the holdout data\n",
    "vectorized_df_holdout.show()"
   ]
  },
  {
   "cell_type": "code",
   "execution_count": null,
   "metadata": {
    "application/vnd.databricks.v1+cell": {
     "cellMetadata": {
      "byteLimit": 2048000,
      "rowLimit": 10000
     },
     "inputWidgets": {},
     "nuid": "2a581de4-feb4-434d-9c00-2672d476cd29",
     "showTitle": false,
     "tableResultSettingsMap": {},
     "title": ""
    }
   },
   "outputs": [],
   "source": [
    "dup_hold = vectorized_df_holdout"
   ]
  },
  {
   "cell_type": "code",
   "execution_count": null,
   "metadata": {
    "application/vnd.databricks.v1+cell": {
     "cellMetadata": {
      "byteLimit": 2048000,
      "rowLimit": 10000
     },
     "inputWidgets": {},
     "nuid": "51372011-f393-442e-9958-4cad7332ec48",
     "showTitle": false,
     "tableResultSettingsMap": {},
     "title": ""
    }
   },
   "outputs": [],
   "source": [
    "vectorized_df_holdout = vectorized_df_holdout.drop(\n",
    "    \n",
    "    \"order_purchase_timestamp\", \n",
    "    \"order_approved_at\", \n",
    "    \"order_delivered_carrier_date\", \n",
    "    \"order_delivered_customer_date\", \n",
    "    \"order_estimated_delivery_date\", \n",
    "    \"customer_id\", \n",
    "    \"review_id\", \n",
    "    'categories_index',\n",
    "    'categories',\n",
    "    'primary_payment_type_index',\n",
    "    'order_count',\n",
    "    'review_score',\n",
    "    'multiclass_label'\n",
    "    )\n",
    "\n"
   ]
  },
  {
   "cell_type": "markdown",
   "metadata": {},
   "source": [
    "Now we run it thru Rformula and transform based on the fit from the training data."
   ]
  },
  {
   "cell_type": "code",
   "execution_count": null,
   "metadata": {
    "application/vnd.databricks.v1+cell": {
     "cellMetadata": {
      "byteLimit": 2048000,
      "rowLimit": 10000
     },
     "inputWidgets": {},
     "nuid": "27f09744-3fc2-4c5c-a973-e9cf04f1966e",
     "showTitle": false,
     "tableResultSettingsMap": {},
     "title": ""
    }
   },
   "outputs": [
    {
     "name": "stdout",
     "output_type": "stream",
     "text": [
      "+--------------------+--------------------+\n",
      "|            order_id|            features|\n",
      "+--------------------+--------------------+\n",
      "|00024acbcdf0a6daa...|(92,[0,1,2,3,4,8,...|\n",
      "|000576fe39319847c...|(92,[0,1,2,3,4,8,...|\n",
      "|0005f50442cb953dc...|(92,[0,1,2,3,4,8,...|\n",
      "|00063b381e2406b52...|(92,[0,2,4,5,8,10...|\n",
      "|0006ec9db01a64e59...|(92,[0,1,2,3,4,8,...|\n",
      "|0009792311464db53...|(92,[0,1,2,3,4,8,...|\n",
      "|001ac194d4a326a6f...|(92,[0,1,2,3,4,8,...|\n",
      "|0025c5d1a8ca53a24...|(92,[0,1,2,3,4,8,...|\n",
      "|002834535f7a609a5...|(92,[0,1,2,3,4,8,...|\n",
      "|0028de0ca693a1bb2...|(92,[0,1,2,3,4,8,...|\n",
      "|0029c5db35ef291ce...|(92,[0,1,2,3,4,8,...|\n",
      "|002f16b7bc4530031...|(92,[0,1,2,3,4,8,...|\n",
      "|003423b755b562962...|(92,[0,1,2,3,4,8,...|\n",
      "|00345f33869628341...|(92,[0,1,2,3,4,8,...|\n",
      "|0036757472ece3dde...|(92,[0,1,2,3,4,8,...|\n",
      "|0039500db36d50d7d...|(92,[0,1,2,3,4,8,...|\n",
      "|003a7f59d7e08a9c6...|(92,[0,1,2,3,4,8,...|\n",
      "|003a94f778ef8cfd5...|(92,[0,2,4,5,8,10...|\n",
      "|003cc6161d7a2593f...|(92,[0,1,2,3,4,8,...|\n",
      "|003d9fc84ad902adf...|(92,[0,1,2,3,4,8,...|\n",
      "+--------------------+--------------------+\n",
      "only showing top 20 rows\n",
      "\n",
      "+--------------------+--------------------+\n",
      "|            order_id|            features|\n",
      "+--------------------+--------------------+\n",
      "|00024acbcdf0a6daa...|(92,[0,1,2,3,4,8,...|\n",
      "|000576fe39319847c...|(92,[0,1,2,3,4,8,...|\n",
      "|0005f50442cb953dc...|(92,[0,1,2,3,4,8,...|\n",
      "|00063b381e2406b52...|(92,[0,2,4,5,8,10...|\n",
      "|0006ec9db01a64e59...|(92,[0,1,2,3,4,8,...|\n",
      "|0009792311464db53...|(92,[0,1,2,3,4,8,...|\n",
      "|001ac194d4a326a6f...|(92,[0,1,2,3,4,8,...|\n",
      "|0025c5d1a8ca53a24...|(92,[0,1,2,3,4,8,...|\n",
      "|002834535f7a609a5...|(92,[0,1,2,3,4,8,...|\n",
      "|0028de0ca693a1bb2...|(92,[0,1,2,3,4,8,...|\n",
      "|0029c5db35ef291ce...|(92,[0,1,2,3,4,8,...|\n",
      "|002f16b7bc4530031...|(92,[0,1,2,3,4,8,...|\n",
      "|003423b755b562962...|(92,[0,1,2,3,4,8,...|\n",
      "|00345f33869628341...|(92,[0,1,2,3,4,8,...|\n",
      "|0036757472ece3dde...|(92,[0,1,2,3,4,8,...|\n",
      "|0039500db36d50d7d...|(92,[0,1,2,3,4,8,...|\n",
      "|003a7f59d7e08a9c6...|(92,[0,1,2,3,4,8,...|\n",
      "|003a94f778ef8cfd5...|(92,[0,2,4,5,8,10...|\n",
      "|003cc6161d7a2593f...|(92,[0,1,2,3,4,8,...|\n",
      "|003d9fc84ad902adf...|(92,[0,1,2,3,4,8,...|\n",
      "+--------------------+--------------------+\n",
      "only showing top 20 rows\n",
      "\n"
     ]
    }
   ],
   "source": [
    "from pyspark.ml.feature import RFormula\n",
    "\n",
    "# Step 1: Fit the RFormula on the training data (basetable2)\n",
    "r_form_binary = RFormula(formula=\"binary_label ~ . -order_id\")  # Formula for binary classification\n",
    "r_form_binary_model = r_form_binary.fit(basetable_binary)  # Fit on training data\n",
    "\n",
    "r_form_multiclass = RFormula(formula=\"multiclass_label ~ . -order_id\")  # Formula for multiclass classification\n",
    "r_form_multiclass_model = r_form_multiclass.fit(basetable_multiclass)  # Fit on training data\n",
    "\n",
    "# Step 2: Transform the holdout data (without labels)\n",
    "r_form_df_binary_h_holdout = r_form_binary_model.transform(vectorized_df_holdout).select(\"order_id\", \"features\")\n",
    "r_form_df_multiclass_h_holdout = r_form_multiclass_model.transform(vectorized_df_holdout).select(\"order_id\", \"features\")\n",
    "\n",
    "# Show results for holdout data\n",
    "r_form_df_binary_h_holdout.show()\n",
    "r_form_df_multiclass_h_holdout.show()\n",
    "\n"
   ]
  },
  {
   "cell_type": "markdown",
   "metadata": {},
   "source": [
    "Predictions on holdout data."
   ]
  },
  {
   "cell_type": "code",
   "execution_count": null,
   "metadata": {
    "application/vnd.databricks.v1+cell": {
     "cellMetadata": {
      "byteLimit": 2048000,
      "rowLimit": 10000
     },
     "inputWidgets": {},
     "nuid": "f61825c2-c42f-46e7-a550-be3c6f5b3494",
     "showTitle": false,
     "tableResultSettingsMap": {},
     "title": ""
    }
   },
   "outputs": [
    {
     "name": "stdout",
     "output_type": "stream",
     "text": [
      "+--------------------+--------------------+----------+--------------------+\n",
      "|            order_id|            features|prediction|         probability|\n",
      "+--------------------+--------------------+----------+--------------------+\n",
      "|00024acbcdf0a6daa...|(92,[0,1,2,3,4,8,...|       1.0|[0.14033953680331...|\n",
      "|000576fe39319847c...|(92,[0,1,2,3,4,8,...|       1.0|[0.09791704110858...|\n",
      "|0005f50442cb953dc...|(92,[0,1,2,3,4,8,...|       1.0|[0.08052392957753...|\n",
      "|00063b381e2406b52...|(92,[0,2,4,5,8,10...|       1.0|[0.25222167685761...|\n",
      "|0006ec9db01a64e59...|(92,[0,1,2,3,4,8,...|       1.0|[0.22758314047261...|\n",
      "|0009792311464db53...|(92,[0,1,2,3,4,8,...|       1.0|[0.11495891568419...|\n",
      "|001ac194d4a326a6f...|(92,[0,1,2,3,4,8,...|       1.0|[0.14098843510235...|\n",
      "|0025c5d1a8ca53a24...|(92,[0,1,2,3,4,8,...|       1.0|[0.22324028208239...|\n",
      "|002834535f7a609a5...|(92,[0,1,2,3,4,8,...|       1.0|[0.31129219873604...|\n",
      "|0028de0ca693a1bb2...|(92,[0,1,2,3,4,8,...|       1.0|[0.14107916494146...|\n",
      "|0029c5db35ef291ce...|(92,[0,1,2,3,4,8,...|       1.0|[0.09566928400575...|\n",
      "|002f16b7bc4530031...|(92,[0,1,2,3,4,8,...|       1.0|[0.11781611952880...|\n",
      "|003423b755b562962...|(92,[0,1,2,3,4,8,...|       1.0|[0.14741081002024...|\n",
      "|00345f33869628341...|(92,[0,1,2,3,4,8,...|       1.0|[0.12134584885458...|\n",
      "|0036757472ece3dde...|(92,[0,1,2,3,4,8,...|       1.0|[0.18011691419885...|\n",
      "|0039500db36d50d7d...|(92,[0,1,2,3,4,8,...|       1.0|[0.14105855642159...|\n",
      "|003a7f59d7e08a9c6...|(92,[0,1,2,3,4,8,...|       1.0|[0.13449936150768...|\n",
      "|003a94f778ef8cfd5...|(92,[0,2,4,5,8,10...|       0.0|[0.82168685838006...|\n",
      "|003cc6161d7a2593f...|(92,[0,1,2,3,4,8,...|       1.0|[0.17349050419668...|\n",
      "|003d9fc84ad902adf...|(92,[0,1,2,3,4,8,...|       1.0|[0.13395709379543...|\n",
      "+--------------------+--------------------+----------+--------------------+\n",
      "only showing top 20 rows\n",
      "\n",
      "+----------+\n",
      "|prediction|\n",
      "+----------+\n",
      "|       1.0|\n",
      "|       1.0|\n",
      "|       1.0|\n",
      "|       1.0|\n",
      "|       1.0|\n",
      "|       1.0|\n",
      "|       1.0|\n",
      "|       1.0|\n",
      "|       1.0|\n",
      "|       1.0|\n",
      "|       1.0|\n",
      "|       1.0|\n",
      "|       1.0|\n",
      "|       1.0|\n",
      "|       1.0|\n",
      "|       1.0|\n",
      "|       1.0|\n",
      "|       0.0|\n",
      "|       1.0|\n",
      "|       1.0|\n",
      "+----------+\n",
      "only showing top 20 rows\n",
      "\n"
     ]
    }
   ],
   "source": [
    "predictions = gbt_model.transform(r_form_df_binary_h_holdout)\n",
    "\n",
    "\n",
    "predictions.select('order_id',\"features\", \"prediction\", \"probability\").show()\n",
    "\n",
    "\n",
    "predictions.select(\"prediction\").show()\n",
    "\n"
   ]
  },
  {
   "cell_type": "markdown",
   "metadata": {},
   "source": [
    "Exporting the results."
   ]
  },
  {
   "cell_type": "code",
   "execution_count": null,
   "metadata": {},
   "outputs": [],
   "source": [
    "final_holdover = predictions.select('order_id',\"prediction\")\n",
    "df = pd.DataFrame(final_holdover.collect(), columns=final_holdover.columns)"
   ]
  },
  {
   "cell_type": "code",
   "execution_count": null,
   "metadata": {},
   "outputs": [
    {
     "data": {
      "text/html": [
       "<div>\n",
       "<style scoped>\n",
       "    .dataframe tbody tr th:only-of-type {\n",
       "        vertical-align: middle;\n",
       "    }\n",
       "\n",
       "    .dataframe tbody tr th {\n",
       "        vertical-align: top;\n",
       "    }\n",
       "\n",
       "    .dataframe thead th {\n",
       "        text-align: right;\n",
       "    }\n",
       "</style>\n",
       "<table border=\"1\" class=\"dataframe\">\n",
       "  <thead>\n",
       "    <tr style=\"text-align: right;\">\n",
       "      <th></th>\n",
       "      <th>order_id</th>\n",
       "      <th>prediction</th>\n",
       "    </tr>\n",
       "  </thead>\n",
       "  <tbody>\n",
       "    <tr>\n",
       "      <th>0</th>\n",
       "      <td>00024acbcdf0a6daa1e931b038114c75</td>\n",
       "      <td>1.0</td>\n",
       "    </tr>\n",
       "    <tr>\n",
       "      <th>1</th>\n",
       "      <td>000576fe39319847cbb9d288c5617fa6</td>\n",
       "      <td>1.0</td>\n",
       "    </tr>\n",
       "    <tr>\n",
       "      <th>2</th>\n",
       "      <td>0005f50442cb953dcd1d21e1fb923495</td>\n",
       "      <td>1.0</td>\n",
       "    </tr>\n",
       "    <tr>\n",
       "      <th>3</th>\n",
       "      <td>00063b381e2406b52ad429470734ebd5</td>\n",
       "      <td>1.0</td>\n",
       "    </tr>\n",
       "    <tr>\n",
       "      <th>4</th>\n",
       "      <td>0006ec9db01a64e59a68b2c340bf65a7</td>\n",
       "      <td>1.0</td>\n",
       "    </tr>\n",
       "  </tbody>\n",
       "</table>\n",
       "</div>"
      ],
      "text/plain": [
       "                           order_id  prediction\n",
       "0  00024acbcdf0a6daa1e931b038114c75         1.0\n",
       "1  000576fe39319847cbb9d288c5617fa6         1.0\n",
       "2  0005f50442cb953dcd1d21e1fb923495         1.0\n",
       "3  00063b381e2406b52ad429470734ebd5         1.0\n",
       "4  0006ec9db01a64e59a68b2c340bf65a7         1.0"
      ]
     },
     "execution_count": 134,
     "metadata": {},
     "output_type": "execute_result"
    }
   ],
   "source": [
    "df.head()"
   ]
  },
  {
   "cell_type": "code",
   "execution_count": null,
   "metadata": {},
   "outputs": [],
   "source": [
    "df.to_csv('C:/Users/omgit/Desktop/Big Data Proj/holdout_predictions.csv', index=False)"
   ]
  }
 ],
 "metadata": {
  "application/vnd.databricks.v1+notebook": {
   "computePreferences": null,
   "dashboards": [],
   "environmentMetadata": {
    "base_environment": "",
    "client": "1"
   },
   "language": "python",
   "notebookMetadata": {
    "pythonIndentUnit": 4
   },
   "notebookName": "Final File but without any indexing",
   "widgets": {}
  },
  "kernelspec": {
   "display_name": "bdt_class",
   "language": "python",
   "name": "python3"
  },
  "language_info": {
   "codemirror_mode": {
    "name": "ipython",
    "version": 3
   },
   "file_extension": ".py",
   "mimetype": "text/x-python",
   "name": "python",
   "nbconvert_exporter": "python",
   "pygments_lexer": "ipython3",
   "version": "3.9.21"
  }
 },
 "nbformat": 4,
 "nbformat_minor": 0
}
